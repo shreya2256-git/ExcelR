{
 "cells": [
  {
   "cell_type": "code",
   "execution_count": 1,
   "id": "90cdef8f-26c0-413e-95de-53801c797b49",
   "metadata": {},
   "outputs": [],
   "source": [
    "# Exercise 1: Prime Numbers"
   ]
  },
  {
   "cell_type": "code",
   "execution_count": 2,
   "id": "53bf4e5c-8a78-420c-8284-f875cc54857e",
   "metadata": {},
   "outputs": [
    {
     "name": "stdin",
     "output_type": "stream",
     "text": [
      "Enter a number:  47\n"
     ]
    },
    {
     "name": "stdout",
     "output_type": "stream",
     "text": [
      "47 is a prime number.\n"
     ]
    }
   ],
   "source": [
    "def is_prime(n):\n",
    "    if n <= 1:\n",
    "        return False\n",
    "    for i in range(2, int(n**0.5) + 1):\n",
    "        if n % i == 0:\n",
    "            return False\n",
    "    return True\n",
    "\n",
    "number = int(input(\"Enter a number: \"))\n",
    "if is_prime(number):\n",
    "    print(f\"{number} is a prime number.\")\n",
    "else:\n",
    "    print(f\"{number} is not a prime number.\")"
   ]
  },
  {
   "cell_type": "code",
   "execution_count": 3,
   "id": "1cfa64b8-af7e-4c63-ba38-d92da19d19b0",
   "metadata": {},
   "outputs": [],
   "source": [
    "# Excercise 2: Product of Random Numbers"
   ]
  },
  {
   "cell_type": "code",
   "execution_count": 10,
   "id": "36170cef-c536-4b10-913e-de4ed61f3c8d",
   "metadata": {},
   "outputs": [
    {
     "name": "stdout",
     "output_type": "stream",
     "text": [
      "The product of 9 and 6 is 54\n"
     ]
    }
   ],
   "source": [
    "import random\n",
    "\n",
    "# Generate two random numbers between 1 and 10\n",
    "num1 = random.randint(1, 10)\n",
    "num2 = random.randint(1, 10)\n",
    "\n",
    "# Calculate the product\n",
    "product = num1 * num2\n",
    "\n",
    "# Print the numbers and their product\n",
    "print(f\"The product of {num1} and {num2} is {product}\")\n"
   ]
  },
  {
   "cell_type": "code",
   "execution_count": 12,
   "id": "f1f4fdf2-c6de-4145-92b9-35b0e60bd980",
   "metadata": {},
   "outputs": [],
   "source": [
    "# Exercise 3: Squares of Even/Odd Numbers"
   ]
  },
  {
   "cell_type": "code",
   "execution_count": 16,
   "id": "f826f0f5-9ed4-4b22-b4d0-29c95fa5849e",
   "metadata": {},
   "outputs": [
    {
     "name": "stdout",
     "output_type": "stream",
     "text": [
      "The square of 300 is 90000\n",
      "The square of 302 is 91204\n",
      "The square of 304 is 92416\n",
      "The square of 306 is 93636\n",
      "The square of 308 is 94864\n",
      "The square of 310 is 96100\n",
      "The square of 312 is 97344\n",
      "The square of 314 is 98596\n",
      "The square of 316 is 99856\n",
      "The square of 318 is 101124\n",
      "The square of 320 is 102400\n",
      "The square of 322 is 103684\n",
      "The square of 324 is 104976\n",
      "The square of 326 is 106276\n",
      "The square of 328 is 107584\n",
      "The square of 330 is 108900\n",
      "The square of 332 is 110224\n",
      "The square of 334 is 111556\n",
      "The square of 336 is 112896\n",
      "The square of 338 is 114244\n",
      "The square of 340 is 115600\n",
      "The square of 342 is 116964\n",
      "The square of 344 is 118336\n",
      "The square of 346 is 119716\n",
      "The square of 348 is 121104\n",
      "The square of 350 is 122500\n",
      "The square of 352 is 123904\n",
      "The square of 354 is 125316\n",
      "The square of 356 is 126736\n",
      "The square of 358 is 128164\n",
      "The square of 360 is 129600\n",
      "The square of 362 is 131044\n",
      "The square of 364 is 132496\n",
      "The square of 366 is 133956\n",
      "The square of 368 is 135424\n",
      "The square of 370 is 136900\n",
      "The square of 372 is 138384\n",
      "The square of 374 is 139876\n",
      "The square of 376 is 141376\n",
      "The square of 378 is 142884\n",
      "The square of 380 is 144400\n",
      "The square of 382 is 145924\n",
      "The square of 384 is 147456\n",
      "The square of 386 is 148996\n",
      "The square of 388 is 150544\n",
      "The square of 390 is 152100\n",
      "The square of 392 is 153664\n",
      "The square of 394 is 155236\n",
      "The square of 396 is 156816\n",
      "The square of 398 is 158404\n",
      "The square of 400 is 160000\n",
      "The square of 402 is 161604\n",
      "The square of 404 is 163216\n",
      "The square of 406 is 164836\n",
      "The square of 408 is 166464\n",
      "The square of 410 is 168100\n",
      "The square of 412 is 169744\n",
      "The square of 414 is 171396\n",
      "The square of 416 is 173056\n",
      "The square of 418 is 174724\n",
      "The square of 420 is 176400\n",
      "The square of 422 is 178084\n",
      "The square of 424 is 179776\n",
      "The square of 426 is 181476\n",
      "The square of 428 is 183184\n",
      "The square of 430 is 184900\n",
      "The square of 432 is 186624\n",
      "The square of 434 is 188356\n",
      "The square of 436 is 190096\n",
      "The square of 438 is 191844\n",
      "The square of 440 is 193600\n",
      "The square of 442 is 195364\n",
      "The square of 444 is 197136\n",
      "The square of 446 is 198916\n",
      "The square of 448 is 200704\n",
      "The square of 450 is 202500\n",
      "The square of 452 is 204304\n",
      "The square of 454 is 206116\n",
      "The square of 456 is 207936\n",
      "The square of 458 is 209764\n",
      "The square of 460 is 211600\n",
      "The square of 462 is 213444\n",
      "The square of 464 is 215296\n",
      "The square of 466 is 217156\n",
      "The square of 468 is 219024\n",
      "The square of 470 is 220900\n",
      "The square of 472 is 222784\n",
      "The square of 474 is 224676\n",
      "The square of 476 is 226576\n",
      "The square of 478 is 228484\n",
      "The square of 480 is 230400\n",
      "The square of 482 is 232324\n",
      "The square of 484 is 234256\n",
      "The square of 486 is 236196\n",
      "The square of 488 is 238144\n",
      "The square of 490 is 240100\n",
      "The square of 492 is 242064\n",
      "The square of 494 is 244036\n",
      "The square of 496 is 246016\n",
      "The square of 498 is 248004\n",
      "The square of 500 is 250000\n"
     ]
    }
   ],
   "source": [
    "def even_numbers():\n",
    "    \n",
    "     for number in range(300, 501):  #501 is for to take 500\n",
    "        if number % 2 == 0:\n",
    "            print(f\"The square of {number} is {number**2}\")\n",
    "\n",
    "even_numbers()"
   ]
  },
  {
   "cell_type": "code",
   "execution_count": 18,
   "id": "97ffe81c-66ec-44cc-80f9-d2e63903279f",
   "metadata": {},
   "outputs": [],
   "source": [
    "# Exercise 4: Word counter"
   ]
  },
  {
   "cell_type": "code",
   "execution_count": 26,
   "id": "511a2f1c-b190-458b-aaa0-823ac06485dd",
   "metadata": {},
   "outputs": [
    {
     "name": "stdout",
     "output_type": "stream",
     "text": [
      "Number of words: 15\n"
     ]
    }
   ],
   "source": [
    "def count_words(input_text):\n",
    "  \n",
    "    words = input_text.split()\n",
    "    \n",
    "    \n",
    "    words_count = len(words)\n",
    "\n",
    "    return words_count\n",
    "\n",
    "input_text = \"This is a sample text. This text will be used to demonstrate the word counter.\"\n",
    "print(f\"Number of words: {count_words(input_text)}\")"
   ]
  },
  {
   "cell_type": "code",
   "execution_count": 24,
   "id": "b1f3fba3-723e-4b1b-a822-c7ccf4bc024f",
   "metadata": {},
   "outputs": [
    {
     "name": "stdout",
     "output_type": "stream",
     "text": [
      "'This': 2\n",
      "'is': 1\n",
      "'a': 1\n",
      "'sample': 1\n",
      "'text.': 1\n",
      "'text': 1\n",
      "'will': 1\n",
      "'be': 1\n",
      "'used': 1\n",
      "'to': 1\n",
      "'demonstrate': 1\n",
      "'the': 1\n",
      "'word': 1\n",
      "'counter.': 1\n"
     ]
    }
   ],
   "source": [
    "from collections import Counter\n",
    "\n",
    "def word_counter(text):\n",
    "    words = text.split()\n",
    "    \n",
    "    word_count = Counter(words)\n",
    "    \n",
    "    # Print the word count\n",
    "    for word, count in word_count.items():\n",
    "        print(f\"'{word}': {count}\")\n",
    "\n",
    "# Example\n",
    "input_text = \"This is a sample text. This text will be used to demonstrate the word counter.\"\n",
    "word_counter(input_text)"
   ]
  },
  {
   "cell_type": "code",
   "execution_count": null,
   "id": "8ef7bc42-1ad6-4977-bd84-a75bbc3b35a1",
   "metadata": {},
   "outputs": [],
   "source": [
    "#Exercise 5: Check for Palindrome"
   ]
  },
  {
   "cell_type": "code",
   "execution_count": 2,
   "id": "11a9055d-cc9c-4212-88a9-24babd70f4b0",
   "metadata": {},
   "outputs": [
    {
     "name": "stdout",
     "output_type": "stream",
     "text": [
      "True\n"
     ]
    }
   ],
   "source": [
    "def palindrome(s):\n",
    "    \n",
    "    cleaned_string = ''.join(char.lower() for char in s if char.isalnum())\n",
    "    left = 0\n",
    "    right = len(s) - 1\n",
    "    \n",
    "    while left<right : \n",
    "        if s[left]!= s[right]:\n",
    "            return False\n",
    "        \n",
    "        left+= 1\n",
    "        right-= 1\n",
    "        \n",
    "        return True\n",
    "    \n",
    "input_string = \"racecar\"\n",
    "print(palindrome(input_string)) "
   ]
  },
  {
   "cell_type": "code",
   "execution_count": null,
   "id": "a88b0fef-652f-442f-a671-3d1e7debb331",
   "metadata": {},
   "outputs": [],
   "source": [
    "# tuples"
   ]
  },
  {
   "cell_type": "code",
   "execution_count": 1,
   "id": "e413d149-8b3e-4f37-bf53-7a63f70a3a9c",
   "metadata": {},
   "outputs": [],
   "source": [
    "# Creating a tuple\n",
    "numbers = (1, 2, 3, 4, 5)"
   ]
  },
  {
   "cell_type": "code",
   "execution_count": 3,
   "id": "3a3d23f7-05f5-422f-b6fa-57b895e47c8a",
   "metadata": {},
   "outputs": [
    {
     "name": "stdout",
     "output_type": "stream",
     "text": [
      "First number: 1\n"
     ]
    }
   ],
   "source": [
    "# Accessing elements\n",
    "print(f\"First number: {numbers[0]}\")  # Output: 1\n"
   ]
  },
  {
   "cell_type": "code",
   "execution_count": 5,
   "id": "e9127ed7-b692-482a-989d-5ec39ae90d66",
   "metadata": {},
   "outputs": [
    {
     "name": "stdout",
     "output_type": "stream",
     "text": [
      "1\n",
      "2\n",
      "3\n",
      "4\n",
      "5\n"
     ]
    }
   ],
   "source": [
    "# Iterating over the tuple\n",
    "for num in numbers:\n",
    "    print(num)"
   ]
  },
  {
   "cell_type": "code",
   "execution_count": 7,
   "id": "4ba6b938-5da6-40b0-a582-ab69d08ec215",
   "metadata": {},
   "outputs": [
    {
     "name": "stdout",
     "output_type": "stream",
     "text": [
      "Unpacked values: 1, 2, 3, 4, 5\n"
     ]
    }
   ],
   "source": [
    "# Tuple unpacking\n",
    "a, b, c, d, e = numbers\n",
    "print(f\"Unpacked values: {a}, {b}, {c}, {d}, {e}\")  # Output: 1, 2, 3, 4, 5\n"
   ]
  }
 ],
 "metadata": {
  "kernelspec": {
   "display_name": "Python 3 (ipykernel)",
   "language": "python",
   "name": "python3"
  },
  "language_info": {
   "codemirror_mode": {
    "name": "ipython",
    "version": 3
   },
   "file_extension": ".py",
   "mimetype": "text/x-python",
   "name": "python",
   "nbconvert_exporter": "python",
   "pygments_lexer": "ipython3",
   "version": "3.12.4"
  }
 },
 "nbformat": 4,
 "nbformat_minor": 5
}
