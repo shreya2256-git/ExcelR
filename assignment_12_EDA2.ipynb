{
 "cells": [
  {
   "cell_type": "code",
   "execution_count": null,
   "id": "9e6053bf-0ce9-4141-bfa1-b014b615ebf2",
   "metadata": {},
   "outputs": [],
   "source": [
    "#1. Importing the required libraries for EDA"
   ]
  },
  {
   "cell_type": "code",
   "execution_count": 95,
   "id": "b21cc2b6-6714-4f5b-8b38-0e5f70976c24",
   "metadata": {},
   "outputs": [],
   "source": [
    "import pandas as pd\n",
    "import numpy as np\n",
    "import seaborn as sns\n",
    "from sklearn.impute import SimpleImputer\n",
    "import matplotlib.pyplot as plt \n",
    "from sklearn.preprocessing import MinMaxScaler\n",
    "from sklearn.preprocessing import StandardScaler, MinMaxScaler\n",
    "from sklearn.preprocessing import OneHotEncoder, LabelEncoder\n",
    "from sklearn.ensemble import IsolationForest\n",
    "import ppscore as pps\n",
    "\n",
    "\n",
    "\n",
    "%matplotlib inline     \n",
    "sns.set(color_codes=True)"
   ]
  },
  {
   "cell_type": "code",
   "execution_count": 3,
   "id": "add15b61-6e79-422f-abcd-e31beaf05ade",
   "metadata": {},
   "outputs": [],
   "source": [
    "#2. Loading the data into the data frame"
   ]
  },
  {
   "cell_type": "code",
   "execution_count": 5,
   "id": "a729006b-d0e2-4247-9c37-72f49d47448c",
   "metadata": {},
   "outputs": [],
   "source": [
    "df=pd.read_csv('/Users/shreyasingh/Downloads/EDA2/adult_with_headers.csv')"
   ]
  },
  {
   "cell_type": "code",
   "execution_count": 7,
   "id": "912ac0b3-5a53-491e-904e-23510561c631",
   "metadata": {},
   "outputs": [
    {
     "data": {
      "text/html": [
       "<div>\n",
       "<style scoped>\n",
       "    .dataframe tbody tr th:only-of-type {\n",
       "        vertical-align: middle;\n",
       "    }\n",
       "\n",
       "    .dataframe tbody tr th {\n",
       "        vertical-align: top;\n",
       "    }\n",
       "\n",
       "    .dataframe thead th {\n",
       "        text-align: right;\n",
       "    }\n",
       "</style>\n",
       "<table border=\"1\" class=\"dataframe\">\n",
       "  <thead>\n",
       "    <tr style=\"text-align: right;\">\n",
       "      <th></th>\n",
       "      <th>age</th>\n",
       "      <th>workclass</th>\n",
       "      <th>fnlwgt</th>\n",
       "      <th>education</th>\n",
       "      <th>education_num</th>\n",
       "      <th>marital_status</th>\n",
       "      <th>occupation</th>\n",
       "      <th>relationship</th>\n",
       "      <th>race</th>\n",
       "      <th>sex</th>\n",
       "      <th>capital_gain</th>\n",
       "      <th>capital_loss</th>\n",
       "      <th>hours_per_week</th>\n",
       "      <th>native_country</th>\n",
       "      <th>income</th>\n",
       "    </tr>\n",
       "  </thead>\n",
       "  <tbody>\n",
       "    <tr>\n",
       "      <th>0</th>\n",
       "      <td>39</td>\n",
       "      <td>State-gov</td>\n",
       "      <td>77516</td>\n",
       "      <td>Bachelors</td>\n",
       "      <td>13</td>\n",
       "      <td>Never-married</td>\n",
       "      <td>Adm-clerical</td>\n",
       "      <td>Not-in-family</td>\n",
       "      <td>White</td>\n",
       "      <td>Male</td>\n",
       "      <td>2174</td>\n",
       "      <td>0</td>\n",
       "      <td>40</td>\n",
       "      <td>United-States</td>\n",
       "      <td>&lt;=50K</td>\n",
       "    </tr>\n",
       "    <tr>\n",
       "      <th>1</th>\n",
       "      <td>50</td>\n",
       "      <td>Self-emp-not-inc</td>\n",
       "      <td>83311</td>\n",
       "      <td>Bachelors</td>\n",
       "      <td>13</td>\n",
       "      <td>Married-civ-spouse</td>\n",
       "      <td>Exec-managerial</td>\n",
       "      <td>Husband</td>\n",
       "      <td>White</td>\n",
       "      <td>Male</td>\n",
       "      <td>0</td>\n",
       "      <td>0</td>\n",
       "      <td>13</td>\n",
       "      <td>United-States</td>\n",
       "      <td>&lt;=50K</td>\n",
       "    </tr>\n",
       "    <tr>\n",
       "      <th>2</th>\n",
       "      <td>38</td>\n",
       "      <td>Private</td>\n",
       "      <td>215646</td>\n",
       "      <td>HS-grad</td>\n",
       "      <td>9</td>\n",
       "      <td>Divorced</td>\n",
       "      <td>Handlers-cleaners</td>\n",
       "      <td>Not-in-family</td>\n",
       "      <td>White</td>\n",
       "      <td>Male</td>\n",
       "      <td>0</td>\n",
       "      <td>0</td>\n",
       "      <td>40</td>\n",
       "      <td>United-States</td>\n",
       "      <td>&lt;=50K</td>\n",
       "    </tr>\n",
       "    <tr>\n",
       "      <th>3</th>\n",
       "      <td>53</td>\n",
       "      <td>Private</td>\n",
       "      <td>234721</td>\n",
       "      <td>11th</td>\n",
       "      <td>7</td>\n",
       "      <td>Married-civ-spouse</td>\n",
       "      <td>Handlers-cleaners</td>\n",
       "      <td>Husband</td>\n",
       "      <td>Black</td>\n",
       "      <td>Male</td>\n",
       "      <td>0</td>\n",
       "      <td>0</td>\n",
       "      <td>40</td>\n",
       "      <td>United-States</td>\n",
       "      <td>&lt;=50K</td>\n",
       "    </tr>\n",
       "    <tr>\n",
       "      <th>4</th>\n",
       "      <td>28</td>\n",
       "      <td>Private</td>\n",
       "      <td>338409</td>\n",
       "      <td>Bachelors</td>\n",
       "      <td>13</td>\n",
       "      <td>Married-civ-spouse</td>\n",
       "      <td>Prof-specialty</td>\n",
       "      <td>Wife</td>\n",
       "      <td>Black</td>\n",
       "      <td>Female</td>\n",
       "      <td>0</td>\n",
       "      <td>0</td>\n",
       "      <td>40</td>\n",
       "      <td>Cuba</td>\n",
       "      <td>&lt;=50K</td>\n",
       "    </tr>\n",
       "  </tbody>\n",
       "</table>\n",
       "</div>"
      ],
      "text/plain": [
       "   age          workclass  fnlwgt   education  education_num  \\\n",
       "0   39          State-gov   77516   Bachelors             13   \n",
       "1   50   Self-emp-not-inc   83311   Bachelors             13   \n",
       "2   38            Private  215646     HS-grad              9   \n",
       "3   53            Private  234721        11th              7   \n",
       "4   28            Private  338409   Bachelors             13   \n",
       "\n",
       "        marital_status          occupation    relationship    race      sex  \\\n",
       "0        Never-married        Adm-clerical   Not-in-family   White     Male   \n",
       "1   Married-civ-spouse     Exec-managerial         Husband   White     Male   \n",
       "2             Divorced   Handlers-cleaners   Not-in-family   White     Male   \n",
       "3   Married-civ-spouse   Handlers-cleaners         Husband   Black     Male   \n",
       "4   Married-civ-spouse      Prof-specialty            Wife   Black   Female   \n",
       "\n",
       "   capital_gain  capital_loss  hours_per_week  native_country  income  \n",
       "0          2174             0              40   United-States   <=50K  \n",
       "1             0             0              13   United-States   <=50K  \n",
       "2             0             0              40   United-States   <=50K  \n",
       "3             0             0              40   United-States   <=50K  \n",
       "4             0             0              40            Cuba   <=50K  "
      ]
     },
     "execution_count": 7,
     "metadata": {},
     "output_type": "execute_result"
    }
   ],
   "source": [
    "df.head()"
   ]
  },
  {
   "cell_type": "code",
   "execution_count": 11,
   "id": "d4ce2433-81e3-4c1f-9900-c2b1d5c01d46",
   "metadata": {},
   "outputs": [
    {
     "data": {
      "text/html": [
       "<div>\n",
       "<style scoped>\n",
       "    .dataframe tbody tr th:only-of-type {\n",
       "        vertical-align: middle;\n",
       "    }\n",
       "\n",
       "    .dataframe tbody tr th {\n",
       "        vertical-align: top;\n",
       "    }\n",
       "\n",
       "    .dataframe thead th {\n",
       "        text-align: right;\n",
       "    }\n",
       "</style>\n",
       "<table border=\"1\" class=\"dataframe\">\n",
       "  <thead>\n",
       "    <tr style=\"text-align: right;\">\n",
       "      <th></th>\n",
       "      <th>age</th>\n",
       "      <th>fnlwgt</th>\n",
       "      <th>education_num</th>\n",
       "      <th>capital_gain</th>\n",
       "      <th>capital_loss</th>\n",
       "      <th>hours_per_week</th>\n",
       "    </tr>\n",
       "  </thead>\n",
       "  <tbody>\n",
       "    <tr>\n",
       "      <th>count</th>\n",
       "      <td>32561.000000</td>\n",
       "      <td>3.256100e+04</td>\n",
       "      <td>32561.000000</td>\n",
       "      <td>32561.000000</td>\n",
       "      <td>32561.000000</td>\n",
       "      <td>32561.000000</td>\n",
       "    </tr>\n",
       "    <tr>\n",
       "      <th>mean</th>\n",
       "      <td>38.581647</td>\n",
       "      <td>1.897784e+05</td>\n",
       "      <td>10.080679</td>\n",
       "      <td>1077.648844</td>\n",
       "      <td>87.303830</td>\n",
       "      <td>40.437456</td>\n",
       "    </tr>\n",
       "    <tr>\n",
       "      <th>std</th>\n",
       "      <td>13.640433</td>\n",
       "      <td>1.055500e+05</td>\n",
       "      <td>2.572720</td>\n",
       "      <td>7385.292085</td>\n",
       "      <td>402.960219</td>\n",
       "      <td>12.347429</td>\n",
       "    </tr>\n",
       "    <tr>\n",
       "      <th>min</th>\n",
       "      <td>17.000000</td>\n",
       "      <td>1.228500e+04</td>\n",
       "      <td>1.000000</td>\n",
       "      <td>0.000000</td>\n",
       "      <td>0.000000</td>\n",
       "      <td>1.000000</td>\n",
       "    </tr>\n",
       "    <tr>\n",
       "      <th>25%</th>\n",
       "      <td>28.000000</td>\n",
       "      <td>1.178270e+05</td>\n",
       "      <td>9.000000</td>\n",
       "      <td>0.000000</td>\n",
       "      <td>0.000000</td>\n",
       "      <td>40.000000</td>\n",
       "    </tr>\n",
       "    <tr>\n",
       "      <th>50%</th>\n",
       "      <td>37.000000</td>\n",
       "      <td>1.783560e+05</td>\n",
       "      <td>10.000000</td>\n",
       "      <td>0.000000</td>\n",
       "      <td>0.000000</td>\n",
       "      <td>40.000000</td>\n",
       "    </tr>\n",
       "    <tr>\n",
       "      <th>75%</th>\n",
       "      <td>48.000000</td>\n",
       "      <td>2.370510e+05</td>\n",
       "      <td>12.000000</td>\n",
       "      <td>0.000000</td>\n",
       "      <td>0.000000</td>\n",
       "      <td>45.000000</td>\n",
       "    </tr>\n",
       "    <tr>\n",
       "      <th>max</th>\n",
       "      <td>90.000000</td>\n",
       "      <td>1.484705e+06</td>\n",
       "      <td>16.000000</td>\n",
       "      <td>99999.000000</td>\n",
       "      <td>4356.000000</td>\n",
       "      <td>99.000000</td>\n",
       "    </tr>\n",
       "  </tbody>\n",
       "</table>\n",
       "</div>"
      ],
      "text/plain": [
       "                age        fnlwgt  education_num  capital_gain  capital_loss  \\\n",
       "count  32561.000000  3.256100e+04   32561.000000  32561.000000  32561.000000   \n",
       "mean      38.581647  1.897784e+05      10.080679   1077.648844     87.303830   \n",
       "std       13.640433  1.055500e+05       2.572720   7385.292085    402.960219   \n",
       "min       17.000000  1.228500e+04       1.000000      0.000000      0.000000   \n",
       "25%       28.000000  1.178270e+05       9.000000      0.000000      0.000000   \n",
       "50%       37.000000  1.783560e+05      10.000000      0.000000      0.000000   \n",
       "75%       48.000000  2.370510e+05      12.000000      0.000000      0.000000   \n",
       "max       90.000000  1.484705e+06      16.000000  99999.000000   4356.000000   \n",
       "\n",
       "       hours_per_week  \n",
       "count    32561.000000  \n",
       "mean        40.437456  \n",
       "std         12.347429  \n",
       "min          1.000000  \n",
       "25%         40.000000  \n",
       "50%         40.000000  \n",
       "75%         45.000000  \n",
       "max         99.000000  "
      ]
     },
     "execution_count": 11,
     "metadata": {},
     "output_type": "execute_result"
    }
   ],
   "source": [
    "df.describe()"
   ]
  },
  {
   "cell_type": "code",
   "execution_count": 17,
   "id": "897652e4-cc14-492f-bdd1-481f045b2ef7",
   "metadata": {},
   "outputs": [
    {
     "data": {
      "text/plain": [
       "age               0\n",
       "workclass         0\n",
       "fnlwgt            0\n",
       "education         0\n",
       "education_num     0\n",
       "marital_status    0\n",
       "occupation        0\n",
       "relationship      0\n",
       "race              0\n",
       "sex               0\n",
       "capital_gain      0\n",
       "capital_loss      0\n",
       "hours_per_week    0\n",
       "native_country    0\n",
       "income            0\n",
       "dtype: int64"
      ]
     },
     "execution_count": 17,
     "metadata": {},
     "output_type": "execute_result"
    }
   ],
   "source": [
    "# Check for missing values\n",
    "df.isnull().sum()"
   ]
  },
  {
   "cell_type": "code",
   "execution_count": 21,
   "id": "a006520d-440f-43b5-a584-5662ac8a83b1",
   "metadata": {},
   "outputs": [
    {
     "data": {
      "text/plain": [
       "age                int64\n",
       "workclass         object\n",
       "fnlwgt             int64\n",
       "education         object\n",
       "education_num      int64\n",
       "marital_status    object\n",
       "occupation        object\n",
       "relationship      object\n",
       "race              object\n",
       "sex               object\n",
       "capital_gain       int64\n",
       "capital_loss       int64\n",
       "hours_per_week     int64\n",
       "native_country    object\n",
       "income            object\n",
       "dtype: object"
      ]
     },
     "execution_count": 21,
     "metadata": {},
     "output_type": "execute_result"
    }
   ],
   "source": [
    "df.dtypes"
   ]
  },
  {
   "cell_type": "code",
   "execution_count": 33,
   "id": "7b10e9f3-4444-41bc-945f-e9d8785304dc",
   "metadata": {},
   "outputs": [],
   "source": [
    "# Identifying numerical features\n",
    "numerical_features = df.select_dtypes(include=['int64', 'float64']).columns\n"
   ]
  },
  {
   "cell_type": "code",
   "execution_count": 35,
   "id": "b278793d-9061-4173-b176-fcd95280d95a",
   "metadata": {},
   "outputs": [],
   "source": [
    "# Applying Standard Scaling\n",
    "standard_scaler = StandardScaler()\n",
    "df_standard_scaled = pd.DataFrame(standard_scaler.fit_transform(df[numerical_features]),\n",
    "                                  columns=numerical_features)"
   ]
  },
  {
   "cell_type": "code",
   "execution_count": 39,
   "id": "9d12595e-a311-4662-a382-38d217e87b65",
   "metadata": {},
   "outputs": [],
   "source": [
    "# Applying Min-Max Scaling\n",
    "minmax_scaler = MinMaxScaler()\n",
    "df_minmax_scaled = pd.DataFrame(minmax_scaler.fit_transform(df[numerical_features]),\n",
    "                                  columns=numerical_features)\n"
   ]
  },
  {
   "cell_type": "code",
   "execution_count": 43,
   "id": "ad031b26-cd8f-4fae-90d9-5dccda32f6bf",
   "metadata": {},
   "outputs": [
    {
     "name": "stdout",
     "output_type": "stream",
     "text": [
      "\n",
      "Standard Scaled Data (first 5 rows):\n",
      "         age    fnlwgt  education_num  capital_gain  capital_loss  \\\n",
      "0  0.030671 -1.063611       1.134739      0.148453      -0.21666   \n",
      "1  0.837109 -1.008707       1.134739     -0.145920      -0.21666   \n",
      "2 -0.042642  0.245079      -0.420060     -0.145920      -0.21666   \n",
      "3  1.057047  0.425801      -1.197459     -0.145920      -0.21666   \n",
      "4 -0.775768  1.408176       1.134739     -0.145920      -0.21666   \n",
      "\n",
      "   hours_per_week  \n",
      "0       -0.035429  \n",
      "1       -2.222153  \n",
      "2       -0.035429  \n",
      "3       -0.035429  \n",
      "4       -0.035429  \n",
      "\n",
      "Min-Max Scaled Data (first 5 rows):\n",
      "         age    fnlwgt  education_num  capital_gain  capital_loss  \\\n",
      "0  0.301370  0.044302       0.800000       0.02174           0.0   \n",
      "1  0.452055  0.048238       0.800000       0.00000           0.0   \n",
      "2  0.287671  0.138113       0.533333       0.00000           0.0   \n",
      "3  0.493151  0.151068       0.400000       0.00000           0.0   \n",
      "4  0.150685  0.221488       0.800000       0.00000           0.0   \n",
      "\n",
      "   hours_per_week  \n",
      "0        0.397959  \n",
      "1        0.122449  \n",
      "2        0.397959  \n",
      "3        0.397959  \n",
      "4        0.397959  \n"
     ]
    }
   ],
   "source": [
    "# Printing a sample of the scaled data\n",
    "print(\"\\nStandard Scaled Data (first 5 rows):\\n\", df_standard_scaled.head())\n",
    "print(\"\\nMin-Max Scaled Data (first 5 rows):\\n\", df_minmax_scaled.head())\n"
   ]
  },
  {
   "cell_type": "raw",
   "id": "13082183-d33c-40ad-b823-721cd695cc28",
   "metadata": {},
   "source": [
    "Standard Scaling (Z-score normalization):\n",
    "- Transforms data to have a mean of 0 and standard deviation of 1.\n",
    "- Preferred when features are normally distributed or when outlier influence needs to be controlled.\n",
    "\n",
    "Min-Max Scaling:\n",
    "- Scales data to a fixed range, typically [0, 1].\n",
    "- Preferred when features have no outliers and need to be normalized for models like neural networks that are sensitive to scale."
   ]
  },
  {
   "cell_type": "code",
   "execution_count": 47,
   "id": "b5e4f930-8a1f-4d15-b35c-0b76cfa75a4d",
   "metadata": {},
   "outputs": [],
   "source": [
    "# Identifying categorical variables\n",
    "categorical_features = df.select_dtypes(include=['object']).columns\n"
   ]
  },
  {
   "cell_type": "code",
   "execution_count": 51,
   "id": "8937ecb7-652d-45fe-bb32-9ef7a0776bb9",
   "metadata": {},
   "outputs": [],
   "source": [
    "# Split into categories with less than 5 and more than 5 unique values\n",
    "less_than_5 = [col for col in categorical_features if df[col].nunique() < 5]\n",
    "more_than_5 = [col for col in categorical_features if df[col].nunique() >= 5]\n"
   ]
  },
  {
   "cell_type": "code",
   "execution_count": 65,
   "id": "ecac55a4-75f5-48e2-983d-cb60cc3fdbbc",
   "metadata": {},
   "outputs": [],
   "source": [
    "# One-Hot Encoding  \n",
    "ohe = OneHotEncoder(sparse_output=False, drop='first')  # Avoid multicollinearity\n",
    "one_hot_encoded = pd.DataFrame(ohe.fit_transform(df[less_than_5]),\n",
    "                               columns=ohe.get_feature_names_out(less_than_5))\n"
   ]
  },
  {
   "cell_type": "code",
   "execution_count": 67,
   "id": "f427fc15-14ff-4a55-8e5c-a43350902a30",
   "metadata": {},
   "outputs": [],
   "source": [
    "# 2. Label Encoding for variables with 5 or more unique categories\n",
    "label_encoders = {}\n",
    "label_encoded = pd.DataFrame()\n",
    "\n",
    "for col in more_than_5:\n",
    "    le = LabelEncoder()\n",
    "    label_encoded[col] = le.fit_transform(df[col])\n",
    "    label_encoders[col] = le"
   ]
  },
  {
   "cell_type": "code",
   "execution_count": 71,
   "id": "502de807-0793-4680-907f-52008768f3a4",
   "metadata": {},
   "outputs": [],
   "source": [
    "# Combine the original dataset with encoded features\n",
    "data_encoded = pd.concat([df.drop(columns=less_than_5 + more_than_5), one_hot_encoded, label_encoded], axis=1)\n"
   ]
  },
  {
   "cell_type": "code",
   "execution_count": 73,
   "id": "94e7cc82-4bb7-4b18-91f2-27aeb99b84bb",
   "metadata": {},
   "outputs": [
    {
     "name": "stdout",
     "output_type": "stream",
     "text": [
      "\n",
      "One-Hot Encoded Data (first 5 rows):\n",
      "    sex_ Male  income_ >50K\n",
      "0        1.0           0.0\n",
      "1        1.0           0.0\n",
      "2        1.0           0.0\n",
      "3        1.0           0.0\n",
      "4        0.0           0.0\n",
      "\n",
      "Label Encoded Data (first 5 rows):\n",
      "    workclass  education  marital_status  occupation  relationship  race  \\\n",
      "0          7          9               4           1             1     4   \n",
      "1          6          9               2           4             0     4   \n",
      "2          4         11               0           6             1     4   \n",
      "3          4          1               2           6             0     2   \n",
      "4          4          9               2          10             5     2   \n",
      "\n",
      "   native_country  \n",
      "0              39  \n",
      "1              39  \n",
      "2              39  \n",
      "3              39  \n",
      "4               5  \n",
      "\n",
      "Combined Encoded Data (first 5 rows):\n",
      "    age  fnlwgt  education_num  capital_gain  capital_loss  hours_per_week  \\\n",
      "0   39   77516             13          2174             0              40   \n",
      "1   50   83311             13             0             0              13   \n",
      "2   38  215646              9             0             0              40   \n",
      "3   53  234721              7             0             0              40   \n",
      "4   28  338409             13             0             0              40   \n",
      "\n",
      "   sex_ Male  income_ >50K  workclass  education  marital_status  occupation  \\\n",
      "0        1.0           0.0          7          9               4           1   \n",
      "1        1.0           0.0          6          9               2           4   \n",
      "2        1.0           0.0          4         11               0           6   \n",
      "3        1.0           0.0          4          1               2           6   \n",
      "4        0.0           0.0          4          9               2          10   \n",
      "\n",
      "   relationship  race  native_country  \n",
      "0             1     4              39  \n",
      "1             0     4              39  \n",
      "2             1     4              39  \n",
      "3             0     2              39  \n",
      "4             5     2               5  \n"
     ]
    }
   ],
   "source": [
    "# Display a sample of the encoded data\n",
    "print(\"\\nOne-Hot Encoded Data (first 5 rows):\\n\", one_hot_encoded.head())\n",
    "print(\"\\nLabel Encoded Data (first 5 rows):\\n\", label_encoded.head())\n",
    "print(\"\\nCombined Encoded Data (first 5 rows):\\n\", data_encoded.head())"
   ]
  },
  {
   "cell_type": "raw",
   "id": "d17be4b0-a764-474a-be61-c1b5f7733611",
   "metadata": {},
   "source": [
    "One-Hot Encoding:\n",
    "- Pros: Avoids ordinal relationships in categories; useful for models that cannot handle categorical data directly.\n",
    "- Cons: Increases dimensionality significantly, especially with many categories.\n",
    "\n",
    "Label Encoding:\n",
    "- Pros: Simple and space-efficient; retains ordinal relationships if they exist.\n",
    "- Cons: Implicitly assumes ordinal relationships even when they don't exist, which can mislead certain models."
   ]
  },
  {
   "cell_type": "code",
   "execution_count": 75,
   "id": "6f673d88-81ae-4098-8320-9a7691e4b92f",
   "metadata": {},
   "outputs": [],
   "source": [
    "# 1. Creating New Features\n",
    "\n",
    "df['capital_net'] = df['capital_gain'] - df['capital_loss']"
   ]
  },
  {
   "cell_type": "code",
   "execution_count": 77,
   "id": "3c72c658-3997-4585-9e86-ea2927a17bef",
   "metadata": {},
   "outputs": [],
   "source": [
    "# New Feature 2: \"work_hours_per_year\" = hours_per_week * 52\n",
    "df['work_hours_per_year'] = df['hours_per_week'] * 52"
   ]
  },
  {
   "cell_type": "code",
   "execution_count": 81,
   "id": "88fabf48-1912-4e8d-8b3c-a214bffe7f1a",
   "metadata": {},
   "outputs": [
    {
     "name": "stdout",
     "output_type": "stream",
     "text": [
      "\n",
      "Sample of new features (first 5 rows):\n",
      "    capital_net  work_hours_per_year\n",
      "0         2174                 2080\n",
      "1            0                  676\n",
      "2            0                 2080\n",
      "3            0                 2080\n",
      "4            0                 2080\n"
     ]
    }
   ],
   "source": [
    "# Display new features\n",
    "print(\"\\nSample of new features (first 5 rows):\\n\", df[['capital_net', 'work_hours_per_year']].head())\n"
   ]
  },
  {
   "cell_type": "code",
   "execution_count": 83,
   "id": "0b369811-63e0-4dde-a023-6d0a4b705ed2",
   "metadata": {},
   "outputs": [
    {
     "name": "stdout",
     "output_type": "stream",
     "text": [
      "\n",
      "Skewness of Numerical Features:\n",
      " capital_gain           11.953848\n",
      "capital_net            11.871934\n",
      "capital_loss            4.594629\n",
      "fnlwgt                  1.446980\n",
      "age                     0.558743\n",
      "work_hours_per_year     0.227643\n",
      "hours_per_week          0.227643\n",
      "education_num          -0.311676\n",
      "dtype: float64\n"
     ]
    }
   ],
   "source": [
    "#Identifying Skewed Numerical Features\n",
    "numerical_features = df.select_dtypes(include=['int64', 'float64']).columns\n",
    "skewness = df[numerical_features].skew().sort_values(ascending=False)\n",
    "print(\"\\nSkewness of Numerical Features:\\n\", skewness)\n"
   ]
  },
  {
   "cell_type": "code",
   "execution_count": 85,
   "id": "a410d98d-5c2a-4a4d-86bb-fb76d580a9c3",
   "metadata": {},
   "outputs": [],
   "source": [
    "# Apply log transformation to the most skewed feature \n",
    "df['log_capital_gain'] = np.log1p(df['capital_gain'])"
   ]
  },
  {
   "cell_type": "code",
   "execution_count": 93,
   "id": "e7e0921d-a4bb-4ee2-b871-69b3380185f0",
   "metadata": {},
   "outputs": [
    {
     "data": {
      "image/png": "[encoded data removed]",
      "text/plain": [
       "<Figure size 1200x500 with 2 Axes>"
      ]
     },
     "metadata": {},
     "output_type": "display_data"
    }
   ],
   "source": [
    "# Plot the effect of log transformation\n",
    "plt.figure(figsize=(12, 5))\n",
    "plt.subplot(1, 2, 1)\n",
    "sns.histplot(df['capital_gain'], kde=True, bins=30)\n",
    "plt.title(\"Original 'capital_gain' Distribution\")\n",
    "\n",
    "plt.subplot(1, 2, 2)\n",
    "sns.histplot(df['log_capital_gain'], kde=True, bins=30)\n",
    "plt.title(\"Log-Transformed 'capital_gain' Distribution\")\n",
    "plt.show()\n"
   ]
  },
  {
   "cell_type": "code",
   "execution_count": 97,
   "id": "b6a0c489-afe0-4a64-b9ee-81095fe377fc",
   "metadata": {},
   "outputs": [],
   "source": [
    "#identifying and Removing Outliers using Isolation Forest\n",
    " \n",
    "numerical_features = df.select_dtypes(include=['int64', 'float64']).columns"
   ]
  },
  {
   "cell_type": "code",
   "execution_count": 99,
   "id": "16ab8c91-ca5c-4665-8d3d-780cd07f7c3c",
   "metadata": {},
   "outputs": [],
   "source": [
    "# Fit the Isolation Forest\n",
    "isolation_forest = IsolationForest(random_state=42, contamination=0.01)\n",
    "outliers = isolation_forest.fit_predict(df[numerical_features])"
   ]
  },
  {
   "cell_type": "code",
   "execution_count": 101,
   "id": "8d966264-0440-435a-aee2-d63bf69c6a0e",
   "metadata": {},
   "outputs": [],
   "source": [
    "# Add the outlier information to the dataset\n",
    "df['outlier'] = outliers"
   ]
  },
  {
   "cell_type": "code",
   "execution_count": 103,
   "id": "95f9482a-097f-4a9a-8b8d-ee9701c6b180",
   "metadata": {},
   "outputs": [],
   "source": [
    "# Remove outliers\n",
    "data_cleaned = df[df['outlier'] == 1].drop(columns=['outlier'])\n"
   ]
  },
  {
   "cell_type": "code",
   "execution_count": 107,
   "id": "9019fcb1-0b60-489a-992e-13d04a139d7d",
   "metadata": {},
   "outputs": [
    {
     "name": "stdout",
     "output_type": "stream",
     "text": [
      "Original dataset shape: (32561, 19)\n",
      "Cleaned dataset shape: (32235, 18)\n"
     ]
    }
   ],
   "source": [
    "\n",
    "print(f\"Original dataset shape: {df.shape}\")\n",
    "print(f\"Cleaned dataset shape: {data_cleaned.shape}\")"
   ]
  },
  {
   "cell_type": "code",
   "execution_count": 109,
   "id": "57dbc5fb-0730-4531-a405-cc1964e40587",
   "metadata": {},
   "outputs": [
    {
     "name": "stderr",
     "output_type": "stream",
     "text": [
      "/opt/anaconda3/lib/python3.12/site-packages/sklearn/model_selection/_split.py:737: UserWarning: The least populated class in y has only 1 members, which is less than n_splits=4.\n",
      "  warnings.warn(\n",
      "/opt/anaconda3/lib/python3.12/site-packages/sklearn/model_selection/_split.py:737: UserWarning: The least populated class in y has only 3 members, which is less than n_splits=4.\n",
      "  warnings.warn(\n",
      "/opt/anaconda3/lib/python3.12/site-packages/sklearn/model_selection/_split.py:737: UserWarning: The least populated class in y has only 1 members, which is less than n_splits=4.\n",
      "  warnings.warn(\n",
      "/opt/anaconda3/lib/python3.12/site-packages/sklearn/model_selection/_split.py:737: UserWarning: The least populated class in y has only 3 members, which is less than n_splits=4.\n",
      "  warnings.warn(\n",
      "/opt/anaconda3/lib/python3.12/site-packages/sklearn/model_selection/_split.py:737: UserWarning: The least populated class in y has only 1 members, which is less than n_splits=4.\n",
      "  warnings.warn(\n",
      "/opt/anaconda3/lib/python3.12/site-packages/sklearn/model_selection/_split.py:737: UserWarning: The least populated class in y has only 1 members, which is less than n_splits=4.\n",
      "  warnings.warn(\n",
      "/opt/anaconda3/lib/python3.12/site-packages/sklearn/model_selection/_split.py:737: UserWarning: The least populated class in y has only 3 members, which is less than n_splits=4.\n",
      "  warnings.warn(\n",
      "/opt/anaconda3/lib/python3.12/site-packages/sklearn/model_selection/_split.py:737: UserWarning: The least populated class in y has only 1 members, which is less than n_splits=4.\n",
      "  warnings.warn(\n",
      "/opt/anaconda3/lib/python3.12/site-packages/sklearn/model_selection/_split.py:737: UserWarning: The least populated class in y has only 1 members, which is less than n_splits=4.\n",
      "  warnings.warn(\n",
      "/opt/anaconda3/lib/python3.12/site-packages/sklearn/model_selection/_split.py:737: UserWarning: The least populated class in y has only 3 members, which is less than n_splits=4.\n",
      "  warnings.warn(\n",
      "/opt/anaconda3/lib/python3.12/site-packages/sklearn/model_selection/_split.py:737: UserWarning: The least populated class in y has only 1 members, which is less than n_splits=4.\n",
      "  warnings.warn(\n",
      "/opt/anaconda3/lib/python3.12/site-packages/sklearn/model_selection/_split.py:737: UserWarning: The least populated class in y has only 1 members, which is less than n_splits=4.\n",
      "  warnings.warn(\n",
      "/opt/anaconda3/lib/python3.12/site-packages/sklearn/model_selection/_split.py:737: UserWarning: The least populated class in y has only 3 members, which is less than n_splits=4.\n",
      "  warnings.warn(\n",
      "/opt/anaconda3/lib/python3.12/site-packages/sklearn/model_selection/_split.py:737: UserWarning: The least populated class in y has only 1 members, which is less than n_splits=4.\n",
      "  warnings.warn(\n",
      "/opt/anaconda3/lib/python3.12/site-packages/sklearn/model_selection/_split.py:737: UserWarning: The least populated class in y has only 1 members, which is less than n_splits=4.\n",
      "  warnings.warn(\n",
      "/opt/anaconda3/lib/python3.12/site-packages/sklearn/model_selection/_split.py:737: UserWarning: The least populated class in y has only 1 members, which is less than n_splits=4.\n",
      "  warnings.warn(\n",
      "/opt/anaconda3/lib/python3.12/site-packages/sklearn/model_selection/_split.py:737: UserWarning: The least populated class in y has only 1 members, which is less than n_splits=4.\n",
      "  warnings.warn(\n",
      "/opt/anaconda3/lib/python3.12/site-packages/sklearn/model_selection/_split.py:737: UserWarning: The least populated class in y has only 3 members, which is less than n_splits=4.\n",
      "  warnings.warn(\n",
      "/opt/anaconda3/lib/python3.12/site-packages/sklearn/model_selection/_split.py:737: UserWarning: The least populated class in y has only 1 members, which is less than n_splits=4.\n",
      "  warnings.warn(\n",
      "/opt/anaconda3/lib/python3.12/site-packages/sklearn/model_selection/_split.py:737: UserWarning: The least populated class in y has only 1 members, which is less than n_splits=4.\n",
      "  warnings.warn(\n",
      "/opt/anaconda3/lib/python3.12/site-packages/sklearn/model_selection/_split.py:737: UserWarning: The least populated class in y has only 3 members, which is less than n_splits=4.\n",
      "  warnings.warn(\n",
      "/opt/anaconda3/lib/python3.12/site-packages/sklearn/model_selection/_split.py:737: UserWarning: The least populated class in y has only 1 members, which is less than n_splits=4.\n",
      "  warnings.warn(\n",
      "/opt/anaconda3/lib/python3.12/site-packages/sklearn/model_selection/_split.py:737: UserWarning: The least populated class in y has only 1 members, which is less than n_splits=4.\n",
      "  warnings.warn(\n",
      "/opt/anaconda3/lib/python3.12/site-packages/sklearn/model_selection/_split.py:737: UserWarning: The least populated class in y has only 3 members, which is less than n_splits=4.\n",
      "  warnings.warn(\n",
      "/opt/anaconda3/lib/python3.12/site-packages/sklearn/model_selection/_split.py:737: UserWarning: The least populated class in y has only 1 members, which is less than n_splits=4.\n",
      "  warnings.warn(\n",
      "/opt/anaconda3/lib/python3.12/site-packages/sklearn/model_selection/_split.py:737: UserWarning: The least populated class in y has only 1 members, which is less than n_splits=4.\n",
      "  warnings.warn(\n",
      "/opt/anaconda3/lib/python3.12/site-packages/sklearn/model_selection/_split.py:737: UserWarning: The least populated class in y has only 3 members, which is less than n_splits=4.\n",
      "  warnings.warn(\n",
      "/opt/anaconda3/lib/python3.12/site-packages/sklearn/model_selection/_split.py:737: UserWarning: The least populated class in y has only 1 members, which is less than n_splits=4.\n",
      "  warnings.warn(\n",
      "/opt/anaconda3/lib/python3.12/site-packages/sklearn/model_selection/_split.py:737: UserWarning: The least populated class in y has only 1 members, which is less than n_splits=4.\n",
      "  warnings.warn(\n",
      "/opt/anaconda3/lib/python3.12/site-packages/sklearn/model_selection/_split.py:737: UserWarning: The least populated class in y has only 3 members, which is less than n_splits=4.\n",
      "  warnings.warn(\n",
      "/opt/anaconda3/lib/python3.12/site-packages/sklearn/model_selection/_split.py:737: UserWarning: The least populated class in y has only 1 members, which is less than n_splits=4.\n",
      "  warnings.warn(\n",
      "/opt/anaconda3/lib/python3.12/site-packages/sklearn/model_selection/_split.py:737: UserWarning: The least populated class in y has only 1 members, which is less than n_splits=4.\n",
      "  warnings.warn(\n",
      "/opt/anaconda3/lib/python3.12/site-packages/sklearn/model_selection/_split.py:737: UserWarning: The least populated class in y has only 3 members, which is less than n_splits=4.\n",
      "  warnings.warn(\n",
      "/opt/anaconda3/lib/python3.12/site-packages/sklearn/model_selection/_split.py:737: UserWarning: The least populated class in y has only 1 members, which is less than n_splits=4.\n",
      "  warnings.warn(\n",
      "/opt/anaconda3/lib/python3.12/site-packages/sklearn/model_selection/_split.py:737: UserWarning: The least populated class in y has only 1 members, which is less than n_splits=4.\n",
      "  warnings.warn(\n",
      "/opt/anaconda3/lib/python3.12/site-packages/sklearn/model_selection/_split.py:737: UserWarning: The least populated class in y has only 3 members, which is less than n_splits=4.\n",
      "  warnings.warn(\n",
      "/opt/anaconda3/lib/python3.12/site-packages/sklearn/model_selection/_split.py:737: UserWarning: The least populated class in y has only 1 members, which is less than n_splits=4.\n",
      "  warnings.warn(\n",
      "/opt/anaconda3/lib/python3.12/site-packages/sklearn/model_selection/_split.py:737: UserWarning: The least populated class in y has only 1 members, which is less than n_splits=4.\n",
      "  warnings.warn(\n",
      "/opt/anaconda3/lib/python3.12/site-packages/sklearn/model_selection/_split.py:737: UserWarning: The least populated class in y has only 3 members, which is less than n_splits=4.\n",
      "  warnings.warn(\n",
      "/opt/anaconda3/lib/python3.12/site-packages/sklearn/model_selection/_split.py:737: UserWarning: The least populated class in y has only 1 members, which is less than n_splits=4.\n",
      "  warnings.warn(\n",
      "/opt/anaconda3/lib/python3.12/site-packages/sklearn/model_selection/_split.py:737: UserWarning: The least populated class in y has only 3 members, which is less than n_splits=4.\n",
      "  warnings.warn(\n",
      "/opt/anaconda3/lib/python3.12/site-packages/sklearn/model_selection/_split.py:737: UserWarning: The least populated class in y has only 1 members, which is less than n_splits=4.\n",
      "  warnings.warn(\n",
      "/opt/anaconda3/lib/python3.12/site-packages/sklearn/model_selection/_split.py:737: UserWarning: The least populated class in y has only 1 members, which is less than n_splits=4.\n",
      "  warnings.warn(\n",
      "/opt/anaconda3/lib/python3.12/site-packages/sklearn/model_selection/_split.py:737: UserWarning: The least populated class in y has only 3 members, which is less than n_splits=4.\n",
      "  warnings.warn(\n",
      "/opt/anaconda3/lib/python3.12/site-packages/sklearn/model_selection/_split.py:737: UserWarning: The least populated class in y has only 1 members, which is less than n_splits=4.\n",
      "  warnings.warn(\n",
      "/opt/anaconda3/lib/python3.12/site-packages/sklearn/model_selection/_split.py:737: UserWarning: The least populated class in y has only 1 members, which is less than n_splits=4.\n",
      "  warnings.warn(\n",
      "/opt/anaconda3/lib/python3.12/site-packages/sklearn/model_selection/_split.py:737: UserWarning: The least populated class in y has only 3 members, which is less than n_splits=4.\n",
      "  warnings.warn(\n",
      "/opt/anaconda3/lib/python3.12/site-packages/sklearn/model_selection/_split.py:737: UserWarning: The least populated class in y has only 1 members, which is less than n_splits=4.\n",
      "  warnings.warn(\n",
      "/opt/anaconda3/lib/python3.12/site-packages/sklearn/model_selection/_split.py:737: UserWarning: The least populated class in y has only 1 members, which is less than n_splits=4.\n",
      "  warnings.warn(\n",
      "/opt/anaconda3/lib/python3.12/site-packages/sklearn/model_selection/_split.py:737: UserWarning: The least populated class in y has only 3 members, which is less than n_splits=4.\n",
      "  warnings.warn(\n",
      "/opt/anaconda3/lib/python3.12/site-packages/sklearn/model_selection/_split.py:737: UserWarning: The least populated class in y has only 1 members, which is less than n_splits=4.\n",
      "  warnings.warn(\n"
     ]
    }
   ],
   "source": [
    "# Applying PPS (Predictive Power Score)\n",
    " \n",
    "pps_matrix = pps.matrix(data_cleaned)"
   ]
  },
  {
   "cell_type": "code",
   "execution_count": 111,
   "id": "8bb13bf6-b70a-4b08-8b92-4a96ab72fbfb",
   "metadata": {},
   "outputs": [],
   "source": [
    "# Filter for meaningful relationships (PPS > 0)\n",
    "pps_filtered = pps_matrix[pps_matrix['ppscore'] > 0][['x', 'y', 'ppscore']].sort_values(by='ppscore', ascending=False)\n"
   ]
  },
  {
   "cell_type": "code",
   "execution_count": 113,
   "id": "5d971206-23c8-4ee3-96f9-ada4d45dafbb",
   "metadata": {},
   "outputs": [
    {
     "name": "stdout",
     "output_type": "stream",
     "text": [
      "\n",
      "Top Feature Relationships (PPS):\n",
      "                   x               y  ppscore\n",
      "0               age             age      1.0\n",
      "171             sex             sex      1.0\n",
      "75    education_num       education      1.0\n",
      "76    education_num   education_num      1.0\n",
      "95   marital_status  marital_status      1.0\n"
     ]
    }
   ],
   "source": [
    "# Display the top relationships based on PPS\n",
    "print(\"\\nTop Feature Relationships (PPS):\\n\", pps_filtered.head())"
   ]
  },
  {
   "cell_type": "code",
   "execution_count": 115,
   "id": "7e18573d-2052-4f71-a2fb-a1f716bf9ea7",
   "metadata": {},
   "outputs": [
    {
     "name": "stderr",
     "output_type": "stream",
     "text": [
      "/var/folders/f9/_4mkkcf11bsbsmzmgybr1twr0000gn/T/ipykernel_72064/4055947333.py:2: FutureWarning: The default value of numeric_only in DataFrame.corr is deprecated. In a future version, it will default to False. Select only valid columns or specify the value of numeric_only to silence this warning.\n",
      "  correlation_matrix = data_cleaned.corr()\n"
     ]
    }
   ],
   "source": [
    "#Compare PPS findings with correlation matrix\n",
    "correlation_matrix = data_cleaned.corr()"
   ]
  },
  {
   "cell_type": "code",
   "execution_count": 117,
   "id": "2095a03b-b779-43f9-9a09-7387a90c08fd",
   "metadata": {},
   "outputs": [
    {
     "data": {
      "image/png": "[encoded data removed]",
      "text/plain": [
       "<Figure size 1000x800 with 2 Axes>"
      ]
     },
     "metadata": {},
     "output_type": "display_data"
    }
   ],
   "source": [
    "# Visualize the correlation matrix\n",
    "plt.figure(figsize=(10, 8))\n",
    "sns.heatmap(correlation_matrix, annot=True, cmap=\"coolwarm\", fmt=\".2f\")\n",
    "plt.title(\"Correlation Matrix\")\n",
    "plt.show()\n"
   ]
  }
 ],
 "metadata": {
  "kernelspec": {
   "display_name": "Python 3 (ipykernel)",
   "language": "python",
   "name": "python3"
  },
  "language_info": {
   "codemirror_mode": {
    "name": "ipython",
    "version": 3
   },
   "file_extension": ".py",
   "mimetype": "text/x-python",
   "name": "python",
   "nbconvert_exporter": "python",
   "pygments_lexer": "ipython3",
   "version": "3.12.4"
  }
 },
 "nbformat": 4,
 "nbformat_minor": 5
}
