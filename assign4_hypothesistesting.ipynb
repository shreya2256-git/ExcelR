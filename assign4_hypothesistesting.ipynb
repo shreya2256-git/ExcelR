{
 "cells": [
  {
   "cell_type": "markdown",
   "id": "11da23e8-37bb-40c0-ada9-27dabcf7394e",
   "metadata": {},
   "source": [
    "# Chi square test\n"
   ]
  },
  {
   "cell_type": "code",
   "execution_count": null,
   "id": "6a984633-2433-466f-9499-ecd7088b8529",
   "metadata": {},
   "outputs": [],
   "source": [
    "#Q1. State the Hypotheses"
   ]
  },
  {
   "cell_type": "code",
   "execution_count": 8,
   "id": "73fabe6d-6e0d-4678-9bbc-a66e53b572b0",
   "metadata": {},
   "outputs": [],
   "source": [
    "#a. A statistical hypothesis is an unproven statement which can be tested. A hypothesis test is used to test whether this statement is true.\n",
    "#b. Null Hypothesis: Null hypothesis is where you assume that the observations are statistically independent i.e. no difference in the populations you are testing.\n",
    "#c. Alternative Hypothesis : A theory that the observations are related (not independent) in some way. "
   ]
  },
  {
   "cell_type": "code",
   "execution_count": 10,
   "id": "32e91258-cfa4-43e6-8998-499bda3c5d26",
   "metadata": {},
   "outputs": [],
   "source": [
    "#Q2.Compute the Chi-Square Statistic"
   ]
  },
  {
   "cell_type": "code",
   "execution_count": 12,
   "id": "e54084c3-9319-4cb8-a835-28ee33cce3d5",
   "metadata": {},
   "outputs": [
    {
     "name": "stdout",
     "output_type": "stream",
     "text": [
      "Chi-Square Statistic (χ²): 5.638227513227513\n"
     ]
    }
   ],
   "source": [
    "import numpy as np\n",
    "import scipy.stats as stats\n",
    "\n",
    "\n",
    "observed = np.array([\n",
    "    [50, 70],\n",
    "    [80, 100],\n",
    "    [60, 90],\n",
    "    [30, 50],\n",
    "    [20, 50]\n",
    "])\n",
    "\n",
    "\n",
    "row_totals = observed.sum(axis=1)\n",
    "col_totals = observed.sum(axis=0)\n",
    "grand_total = observed.sum()\n",
    "\n",
    "\n",
    "expected = np.outer(row_totals, col_totals) / grand_total\n",
    "\n",
    "\n",
    "chi2_stat = ((observed - expected) ** 2 / expected).sum()\n",
    "\n",
    "\n",
    "print(\"Chi-Square Statistic (χ²):\", chi2_stat)"
   ]
  },
  {
   "cell_type": "code",
   "execution_count": 14,
   "id": "742c831a-800b-4c98-bd93-046cd26ef2df",
   "metadata": {},
   "outputs": [],
   "source": [
    "#Q3. Determine the Critical Value:"
   ]
  },
  {
   "cell_type": "code",
   "execution_count": 16,
   "id": "15e1a8d6-fb49-478a-8c98-aa1b73c2c835",
   "metadata": {},
   "outputs": [
    {
     "name": "stdout",
     "output_type": "stream",
     "text": [
      "Degrees of Freedom (df): 4\n",
      "Critical Value (at 0.05 significance): 9.487729036781154\n",
      "p-value: 0.22784371130697179\n"
     ]
    }
   ],
   "source": [
    "df = (observed.shape[0] - 1) * (observed.shape[1] - 1)\n",
    "\n",
    "critical_value = stats.chi2.ppf(0.95, df)\n",
    "\n",
    "p_value = 1 - stats.chi2.cdf(chi2_stat, df)\n",
    "\n",
    "print(\"Degrees of Freedom (df):\", df)\n",
    "print(\"Critical Value (at 0.05 significance):\", critical_value)\n",
    "print(\"p-value:\", p_value)"
   ]
  },
  {
   "cell_type": "code",
   "execution_count": 18,
   "id": "3842a52f-1f66-4a32-ab7d-035dcfe9783a",
   "metadata": {},
   "outputs": [],
   "source": [
    "#Q4. Make a Decision:"
   ]
  },
  {
   "cell_type": "code",
   "execution_count": 20,
   "id": "413d22d3-6769-4171-b14c-7b735da7e120",
   "metadata": {},
   "outputs": [
    {
     "name": "stdout",
     "output_type": "stream",
     "text": [
      "Fail to reject the null hypothesis.\n",
      "There is no significant association between the type of device and customer satisfaction levels.\n"
     ]
    }
   ],
   "source": [
    "if chi2_stat > critical_value:\n",
    "    print(\"Reject the null hypothesis.\")\n",
    "    print(\"There is a significant association between the type of device and customer satisfaction levels.\")\n",
    "else:\n",
    "    print(\"Fail to reject the null hypothesis.\")\n",
    "    print(\"There is no significant association between the type of device and customer satisfaction levels.\")"
   ]
  },
  {
   "cell_type": "markdown",
   "id": "513dd978-6c92-4190-a178-e60e00341b64",
   "metadata": {},
   "source": [
    "# Hypothesis Testing"
   ]
  },
  {
   "cell_type": "code",
   "execution_count": 23,
   "id": "48fa7b22-93fe-4bfa-8aff-617e98ec21ab",
   "metadata": {},
   "outputs": [],
   "source": [
    "#Q.1 State the Hypotheses Statement:"
   ]
  },
  {
   "cell_type": "code",
   "execution_count": 25,
   "id": "a8b69cb0-419d-4ea2-bb01-6247ee78c650",
   "metadata": {},
   "outputs": [],
   "source": [
    "# Null Hypothesis (H₀): The mean weekly operating cost is equal to the theoretical mean weekly cost. \n",
    "# 𝜇=1000 + 5⋅600\n",
    "\n",
    "# Alternative Hypothesis (H₁): The mean weekly operating cost is not equal to the theoretical mean weekly cost. \n",
    "# 𝜇 != 1000+5⋅600\n"
   ]
  },
  {
   "cell_type": "code",
   "execution_count": 27,
   "id": "f433430e-783f-45e1-a1d3-09ef97323169",
   "metadata": {},
   "outputs": [],
   "source": [
    "#Q.2 Calculate the Test Statistic:\n",
    "#Q.3  Determine the Critical Value :\n",
    "#Q.4 Make a Decision :\n",
    "#Q.5 Conclusion :    "
   ]
  },
  {
   "cell_type": "code",
   "execution_count": 29,
   "id": "7ee6a411-e0cc-4224-acc2-51964f7cf192",
   "metadata": {},
   "outputs": [
    {
     "name": "stdout",
     "output_type": "stream",
     "text": [
      "Hypothesis Testing for Weekly Operating Costs :\n",
      "\n",
      "1. State the Hypotheses:\n",
      "Null Hypothesis (H₀): The mean weekly operating cost is equal to the theoretical mean weekly cost (4000 Rs).\n",
      "Alternative Hypothesis (H₁): The mean weekly operating cost is not equal to the theoretical mean weekly cost (4000 Rs).\n",
      "\n",
      "2. Calculate the Test Statistic:\n",
      "Sample Mean (x̄): 3050 Rs\n",
      "Theoretical Mean (μ): 4000 Rs\n",
      "Standard Deviation (σ): 125 Rs\n",
      "Sample Size (n): 25\n",
      "\n",
      "Test Statistic (t): -38.0\n",
      "\n",
      "3. Determine the Critical Value:\n",
      "Critical Values (Z_α/2): -1.96, 1.96\n",
      "\n",
      "4. Make a Decision:\n",
      "Reject the null hypothesis.\n",
      "There is a significant difference between the mean weekly operating cost and the theoretical mean weekly cost.\n",
      "\n",
      "5. Conclusion:\n",
      "There is strong evidence to suggest that the weekly operating costs are significantly lower than the model suggests.\n"
     ]
    }
   ],
   "source": [
    "import math\n",
    "\n",
    "sample_mean = 3050  # Rs\n",
    "theoretical_mean = 1000 + 5 * 600  # Rs\n",
    "std_dev = 5 * 25  # Rs\n",
    "sample_size = 25\n",
    "\n",
    "t_stat = (sample_mean - theoretical_mean) / (std_dev / math.sqrt(sample_size))\n",
    "\n",
    "# Critical values for a two-tailed test at alpha = 0.05\n",
    "critical_value_low = -1.96\n",
    "critical_value_high = 1.96\n",
    "\n",
    "print(\"Hypothesis Testing for Weekly Operating Costs :\")\n",
    "print()\n",
    "print(\"1. State the Hypotheses:\")\n",
    "print(\"Null Hypothesis (H₀): The mean weekly operating cost is equal to the theoretical mean weekly cost (4000 Rs).\")\n",
    "print(\"Alternative Hypothesis (H₁): The mean weekly operating cost is not equal to the theoretical mean weekly cost (4000 Rs).\")\n",
    "print()\n",
    "\n",
    "print(\"2. Calculate the Test Statistic:\")\n",
    "print(f\"Sample Mean (x̄): {sample_mean} Rs\")\n",
    "print(f\"Theoretical Mean (μ): {theoretical_mean} Rs\")\n",
    "print(f\"Standard Deviation (σ): {std_dev} Rs\")\n",
    "print(f\"Sample Size (n): {sample_size}\")\n",
    "print()\n",
    "print(f\"Test Statistic (t): {t_stat}\")\n",
    "print()\n",
    "\n",
    "print(\"3. Determine the Critical Value:\")\n",
    "print(f\"Critical Values (Z_α/2): {critical_value_low}, {critical_value_high}\")\n",
    "print()\n",
    "\n",
    "print(\"4. Make a Decision:\")\n",
    "if t_stat < critical_value_low or t_stat > critical_value_high:\n",
    "    decision = \"Reject the null hypothesis.\"\n",
    "    evidence = \"There is a significant difference between the mean weekly operating cost and the theoretical mean weekly cost.\"\n",
    "else:\n",
    "    decision = \"Fail to reject the null hypothesis.\"\n",
    "    evidence = \"There is no significant difference between the mean weekly operating cost and the theoretical mean weekly cost.\"\n",
    "\n",
    "print(decision)\n",
    "print(evidence)\n",
    "print()\n",
    "\n",
    "print(\"5. Conclusion:\")\n",
    "if t_stat < critical_value_low:\n",
    "    conclusion = \"There is strong evidence to suggest that the weekly operating costs are significantly lower than the model suggests.\"\n",
    "elif t_stat > critical_value_high:\n",
    "    conclusion = \"There is strong evidence to suggest that the weekly operating costs are significantly higher than the model suggests.\"\n",
    "else:\n",
    "    conclusion = \"There is no strong evidence to suggest a significant difference in weekly operating costs compared to the model.\"\n",
    "\n",
    "print(conclusion)"
   ]
  },
  {
   "cell_type": "code",
   "execution_count": null,
   "id": "89bb3b54-9a22-4734-9591-7d901e076479",
   "metadata": {},
   "outputs": [],
   "source": []
  }
 ],
 "metadata": {
  "kernelspec": {
   "display_name": "Python 3 (ipykernel)",
   "language": "python",
   "name": "python3"
  },
  "language_info": {
   "codemirror_mode": {
    "name": "ipython",
    "version": 3
   },
   "file_extension": ".py",
   "mimetype": "text/x-python",
   "name": "python",
   "nbconvert_exporter": "python",
   "pygments_lexer": "ipython3",
   "version": "3.12.4"
  }
 },
 "nbformat": 4,
 "nbformat_minor": 5
}
