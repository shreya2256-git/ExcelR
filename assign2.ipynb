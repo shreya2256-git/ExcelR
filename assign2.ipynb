{
 "cells": [
  {
   "cell_type": "code",
   "execution_count": 1,
   "id": "579b18d5-3e8b-4d51-9de8-117f99a82d9c",
   "metadata": {},
   "outputs": [
    {
     "name": "stdout",
     "output_type": "stream",
     "text": [
      "Requirement already satisfied: pandas in /opt/anaconda3/lib/python3.12/site-packages (1.5.3)\n",
      "Requirement already satisfied: python-dateutil>=2.8.1 in /opt/anaconda3/lib/python3.12/site-packages (from pandas) (2.9.0.post0)\n",
      "Requirement already satisfied: pytz>=2020.1 in /opt/anaconda3/lib/python3.12/site-packages (from pandas) (2024.1)\n",
      "Requirement already satisfied: numpy>=1.21.0 in /opt/anaconda3/lib/python3.12/site-packages (from pandas) (1.26.4)\n",
      "Requirement already satisfied: six>=1.5 in /opt/anaconda3/lib/python3.12/site-packages (from python-dateutil>=2.8.1->pandas) (1.16.0)\n"
     ]
    }
   ],
   "source": [
    "!pip install pandas"
   ]
  },
  {
   "cell_type": "code",
   "execution_count": 3,
   "id": "cbb0a33e-2daa-4e83-95e5-4e2cfab37cc1",
   "metadata": {},
   "outputs": [],
   "source": [
    "import numpy as np\n",
    "import scipy.stats as stats"
   ]
  },
  {
   "cell_type": "code",
   "execution_count": 7,
   "id": "6c5a7931-e530-4ff2-ac20-7fc8cf38d025",
   "metadata": {},
   "outputs": [
    {
     "data": {
      "text/plain": [
       "array([1.13, 1.55, 1.43, 0.92, 1.25, 1.36, 1.32, 0.85, 1.07, 1.48, 1.2 ,\n",
       "       1.33, 1.18, 1.22, 1.29])"
      ]
     },
     "execution_count": 7,
     "metadata": {},
     "output_type": "execute_result"
    }
   ],
   "source": [
    "data = np.array([1.13, 1.55, 1.43, 0.92, 1.25, 1.36, 1.32, 0.85, 1.07, 1.48, 1.20, 1.33, 1.18, 1.22, 1.29])\n",
    "data"
   ]
  },
  {
   "cell_type": "code",
   "execution_count": 9,
   "id": "7bf0ae48-dba5-468f-beec-1f0b3a026dfd",
   "metadata": {},
   "outputs": [],
   "source": [
    "# Sample size\n",
    "n = len(data)"
   ]
  },
  {
   "cell_type": "code",
   "execution_count": 15,
   "id": "1af66193-9808-45ed-b0ab-aa5ef9e13a81",
   "metadata": {},
   "outputs": [
    {
     "data": {
      "text/plain": [
       "1.2386666666666666"
      ]
     },
     "execution_count": 15,
     "metadata": {},
     "output_type": "execute_result"
    }
   ],
   "source": [
    "# Sample mean\n",
    "mean = np.mean(data)\n",
    "mean"
   ]
  },
  {
   "cell_type": "code",
   "execution_count": 17,
   "id": "44f6cf91-8fc4-4178-8956-5aea916a8600",
   "metadata": {},
   "outputs": [
    {
     "data": {
      "text/plain": [
       "0.19316412956959936"
      ]
     },
     "execution_count": 17,
     "metadata": {},
     "output_type": "execute_result"
    }
   ],
   "source": [
    "std_dev = np.std(data, ddof = 1) #ddof=adjust the divisor n-1\n",
    "std_dev"
   ]
  },
  {
   "cell_type": "code",
   "execution_count": 19,
   "id": "58653cfa-84f9-4a6c-8b9e-1eecf51b8fab",
   "metadata": {},
   "outputs": [
    {
     "name": "stdout",
     "output_type": "stream",
     "text": [
      "t_critical: 2.9768427343708344\n",
      "Margin of error is: 0.148469328228176\n",
      "Confidence interval is: (1.0901973384384906, 1.3871359948948425)\n"
     ]
    }
   ],
   "source": [
    "#a. Build 99% Confidence Interval Using Sample Standard Deviation\n",
    "\n",
    "n = len(data)\n",
    "df = n-1\n",
    "confidence_level = 0.99\n",
    "\n",
    "t_critical = stats.t.ppf((1+ confidence_level) /2, df)\n",
    "margin_of_error = t_critical * (std_dev / np.sqrt(n))\n",
    "\n",
    "#confidence interval=mean+ME,mean-ME\n",
    "confidence_interval = (mean - margin_of_error, mean + margin_of_error)\n",
    "\n",
    "print(\"t_critical:\",t_critical) \n",
    "print(\"Margin of error is:\",margin_of_error)\n",
    "print(\"Confidence interval is:\",confidence_interval)"
   ]
  },
  {
   "cell_type": "code",
   "execution_count": 23,
   "id": "996d58b7-3231-440b-9195-1a80957c97df",
   "metadata": {},
   "outputs": [
    {
     "name": "stdout",
     "output_type": "stream",
     "text": [
      "Mean is:  1.2386666666666666\n",
      "Sigma is : 0.2\n",
      "Margin Of the Error is: 0.13301525327090588\n",
      "Confidence interval is : (1.1056514133957607, 1.3716819199375725)\n"
     ]
    }
   ],
   "source": [
    "#b. Build 99% Confidence Interval Using Known Population Standard Deviation\n",
    "# the population standard deviation is 0.2 million characters, construct a 99% confidence interval\n",
    "\n",
    "# data = [1.13, 1.55, 1.43, 0.92, 1.25, 1.36, 1.32, 0.85, 1.07, 1.48, 1.20, 1.33, 1.18, 1.22, 1.29]\n",
    "# n = len(data)\n",
    "# mean = np.mean(data)\n",
    "\n",
    "# Population standard deviation\n",
    "sigma = 0.2\n",
    "confidence_level = 0.99\n",
    "\n",
    "z_critical = stats.norm.ppf((1 + confidence_level) / 2)\n",
    "\n",
    "margin_of_error = z_critical * (sigma / np.sqrt(n))\n",
    "\n",
    "confidence_interval = (mean - margin_of_error, mean + margin_of_error)\n",
    "\n",
    "print(\"Mean is: \",mean)\n",
    "print(\"Sigma is :\",sigma)\n",
    "print(\"Margin Of the Error is:\",margin_of_error)\n",
    "print(\"Confidence interval is :\",confidence_interval)"
   ]
  },
  {
   "cell_type": "code",
   "execution_count": null,
   "id": "e0395157-f002-4440-8fbf-d2b84d0a23bd",
   "metadata": {},
   "outputs": [],
   "source": []
  }
 ],
 "metadata": {
  "kernelspec": {
   "display_name": "Python 3 (ipykernel)",
   "language": "python",
   "name": "python3"
  },
  "language_info": {
   "codemirror_mode": {
    "name": "ipython",
    "version": 3
   },
   "file_extension": ".py",
   "mimetype": "text/x-python",
   "name": "python",
   "nbconvert_exporter": "python",
   "pygments_lexer": "ipython3",
   "version": "3.12.4"
  }
 },
 "nbformat": 4,
 "nbformat_minor": 5
}
