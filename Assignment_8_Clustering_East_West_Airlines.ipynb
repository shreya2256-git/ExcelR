{
 "cells": [
  {
   "cell_type": "code",
   "execution_count": 1,
   "metadata": {
    "id": "7dDdRyrwcV-p"
   },
   "outputs": [],
   "source": [
    "import pandas as pd\n",
    "import numpy as np\n",
    "from sklearn.preprocessing import LabelEncoder\n",
    "from matplotlib import pyplot as plt\n",
    "\n",
    "import seaborn as sns\n",
    "import scipy.cluster.hierarchy as sch\n",
    "from sklearn.cluster import AgglomerativeClustering\n",
    "\n",
    "import warnings\n",
    "warnings.filterwarnings(\"ignore\")"
   ]
  },
  {
   "cell_type": "code",
   "execution_count": 29,
   "metadata": {
    "colab": {
     "base_uri": "https://localhost:8080/",
     "height": 206
    },
    "id": "yqDncyt1cp2Z",
    "outputId": "dd5d012b-eea4-4c2b-ff6f-4e9272f59b10"
   },
   "outputs": [
    {
     "data": {
      "text/html": [
       "<div>\n",
       "<style scoped>\n",
       "    .dataframe tbody tr th:only-of-type {\n",
       "        vertical-align: middle;\n",
       "    }\n",
       "\n",
       "    .dataframe tbody tr th {\n",
       "        vertical-align: top;\n",
       "    }\n",
       "\n",
       "    .dataframe thead th {\n",
       "        text-align: right;\n",
       "    }\n",
       "</style>\n",
       "<table border=\"1\" class=\"dataframe\">\n",
       "  <thead>\n",
       "    <tr style=\"text-align: right;\">\n",
       "      <th></th>\n",
       "      <th>ID#</th>\n",
       "      <th>Balance</th>\n",
       "      <th>Qual_miles</th>\n",
       "      <th>cc1_miles</th>\n",
       "      <th>cc2_miles</th>\n",
       "      <th>cc3_miles</th>\n",
       "      <th>Bonus_miles</th>\n",
       "      <th>Bonus_trans</th>\n",
       "      <th>Flight_miles_12mo</th>\n",
       "      <th>Flight_trans_12</th>\n",
       "      <th>Days_since_enroll</th>\n",
       "      <th>Award?</th>\n",
       "    </tr>\n",
       "  </thead>\n",
       "  <tbody>\n",
       "    <tr>\n",
       "      <th>0</th>\n",
       "      <td>1</td>\n",
       "      <td>28143</td>\n",
       "      <td>0</td>\n",
       "      <td>1</td>\n",
       "      <td>1</td>\n",
       "      <td>1</td>\n",
       "      <td>174</td>\n",
       "      <td>1</td>\n",
       "      <td>0</td>\n",
       "      <td>0</td>\n",
       "      <td>7000</td>\n",
       "      <td>0</td>\n",
       "    </tr>\n",
       "    <tr>\n",
       "      <th>1</th>\n",
       "      <td>2</td>\n",
       "      <td>19244</td>\n",
       "      <td>0</td>\n",
       "      <td>1</td>\n",
       "      <td>1</td>\n",
       "      <td>1</td>\n",
       "      <td>215</td>\n",
       "      <td>2</td>\n",
       "      <td>0</td>\n",
       "      <td>0</td>\n",
       "      <td>6968</td>\n",
       "      <td>0</td>\n",
       "    </tr>\n",
       "    <tr>\n",
       "      <th>2</th>\n",
       "      <td>3</td>\n",
       "      <td>41354</td>\n",
       "      <td>0</td>\n",
       "      <td>1</td>\n",
       "      <td>1</td>\n",
       "      <td>1</td>\n",
       "      <td>4123</td>\n",
       "      <td>4</td>\n",
       "      <td>0</td>\n",
       "      <td>0</td>\n",
       "      <td>7034</td>\n",
       "      <td>0</td>\n",
       "    </tr>\n",
       "    <tr>\n",
       "      <th>3</th>\n",
       "      <td>4</td>\n",
       "      <td>14776</td>\n",
       "      <td>0</td>\n",
       "      <td>1</td>\n",
       "      <td>1</td>\n",
       "      <td>1</td>\n",
       "      <td>500</td>\n",
       "      <td>1</td>\n",
       "      <td>0</td>\n",
       "      <td>0</td>\n",
       "      <td>6952</td>\n",
       "      <td>0</td>\n",
       "    </tr>\n",
       "    <tr>\n",
       "      <th>4</th>\n",
       "      <td>5</td>\n",
       "      <td>97752</td>\n",
       "      <td>0</td>\n",
       "      <td>4</td>\n",
       "      <td>1</td>\n",
       "      <td>1</td>\n",
       "      <td>43300</td>\n",
       "      <td>26</td>\n",
       "      <td>2077</td>\n",
       "      <td>4</td>\n",
       "      <td>6935</td>\n",
       "      <td>1</td>\n",
       "    </tr>\n",
       "  </tbody>\n",
       "</table>\n",
       "</div>"
      ],
      "text/plain": [
       "   ID#  Balance  Qual_miles  cc1_miles  cc2_miles  cc3_miles  Bonus_miles  \\\n",
       "0    1    28143           0          1          1          1          174   \n",
       "1    2    19244           0          1          1          1          215   \n",
       "2    3    41354           0          1          1          1         4123   \n",
       "3    4    14776           0          1          1          1          500   \n",
       "4    5    97752           0          4          1          1        43300   \n",
       "\n",
       "   Bonus_trans  Flight_miles_12mo  Flight_trans_12  Days_since_enroll  Award?  \n",
       "0            1                  0                0               7000       0  \n",
       "1            2                  0                0               6968       0  \n",
       "2            4                  0                0               7034       0  \n",
       "3            1                  0                0               6952       0  \n",
       "4           26               2077                4               6935       1  "
      ]
     },
     "execution_count": 29,
     "metadata": {},
     "output_type": "execute_result"
    }
   ],
   "source": [
    "airlines=pd.read_excel(\"/Users/shreyasingh/Downloads/Clustering/EastWestAirlines.xlsx\",sheet_name='data')\n",
    "airlines.head(5)"
   ]
  },
  {
   "cell_type": "code",
   "execution_count": null,
   "metadata": {
    "colab": {
     "base_uri": "https://localhost:8080/"
    },
    "id": "rur__0Qlc6Fj",
    "outputId": "442f1e2d-9ca2-4f54-8961-e128467cd7c6"
   },
   "outputs": [],
   "source": [
    "airlines.info()"
   ]
  },
  {
   "cell_type": "code",
   "execution_count": null,
   "metadata": {
    "colab": {
     "base_uri": "https://localhost:8080/",
     "height": 320
    },
    "id": "dFwtEQjTc7ew",
    "outputId": "9d64ffa3-f893-4711-af73-a5519ae4d60e"
   },
   "outputs": [],
   "source": [
    "airlines.describe()"
   ]
  },
  {
   "cell_type": "code",
   "execution_count": null,
   "metadata": {
    "colab": {
     "base_uri": "https://localhost:8080/",
     "height": 206
    },
    "id": "Huu9BnCDc9Yz",
    "outputId": "53f45134-cdfa-4cab-e648-85895d816804"
   },
   "outputs": [],
   "source": [
    "le=LabelEncoder()\n",
    "\n",
    "airlines.iloc[:,0]=le.fit_transform(airlines.iloc[:,0])\n",
    "airlines.head(5)"
   ]
  },
  {
   "cell_type": "code",
   "execution_count": null,
   "metadata": {
    "colab": {
     "base_uri": "https://localhost:8080/"
    },
    "id": "ZJ8oOcUDc_Ye",
    "outputId": "0618b833-e3e2-4406-cd44-5df4509fdc58"
   },
   "outputs": [],
   "source": [
    "airlines[airlines.duplicated()].shape"
   ]
  },
  {
   "cell_type": "code",
   "execution_count": null,
   "metadata": {
    "colab": {
     "base_uri": "https://localhost:8080/"
    },
    "id": "fMvbxGltdBCz",
    "outputId": "2b6ac939-7327-45fa-9e0e-911f2fe8fc2e"
   },
   "outputs": [],
   "source": [
    "airlines.isnull().sum()"
   ]
  },
  {
   "cell_type": "code",
   "execution_count": null,
   "metadata": {
    "colab": {
     "base_uri": "https://localhost:8080/",
     "height": 497
    },
    "id": "OCTOXpqsdCdo",
    "outputId": "6d76cadc-ec7c-438b-e570-c50640a43770"
   },
   "outputs": [],
   "source": [
    "plt.figure(figsize=(15,5))\n",
    "plt.subplot(131)\n",
    "sns.distplot(airlines['Balance'])\n",
    "\n",
    "plt.subplot(132)\n",
    "sns.distplot(airlines['Bonus_miles'])\n",
    "\n",
    "plt.subplot(133)\n",
    "sns.distplot(airlines['Days_since_enroll'])"
   ]
  },
  {
   "cell_type": "code",
   "execution_count": null,
   "metadata": {
    "colab": {
     "base_uri": "https://localhost:8080/",
     "height": 599
    },
    "id": "Iv4wbGJ4dEgS",
    "outputId": "9a20ee7b-a993-4cc5-ebff-a4f6c35cf439"
   },
   "outputs": [],
   "source": [
    "plt.figure(figsize=(15,5))\n",
    "plt.subplot(1,3,1)\n",
    "x=plt.boxplot(airlines['Balance'])\n",
    "\n",
    "plt.subplot(1,3,2)\n",
    "y=plt.boxplot(airlines['Bonus_miles'])\n",
    "\n",
    "plt.subplot(1,3,3)\n",
    "plt.boxplot(airlines['Days_since_enroll'])"
   ]
  },
  {
   "cell_type": "code",
   "execution_count": null,
   "metadata": {
    "colab": {
     "base_uri": "https://localhost:8080/"
    },
    "id": "-VsfTxvmdHfq",
    "outputId": "fbf118b3-35ee-4430-b738-039804cf8763"
   },
   "outputs": [],
   "source": [
    "[i.get_ydata() for i in x['fliers']]"
   ]
  },
  {
   "cell_type": "code",
   "execution_count": null,
   "metadata": {
    "colab": {
     "base_uri": "https://localhost:8080/"
    },
    "id": "HochNmVpdJkX",
    "outputId": "1e46f633-cdfc-493a-f687-95c0e2e90c8c"
   },
   "outputs": [],
   "source": [
    "[i.get_ydata() for i in y['fliers']]"
   ]
  },
  {
   "cell_type": "code",
   "execution_count": null,
   "metadata": {
    "id": "YBu4xtMpdLcf"
   },
   "outputs": [],
   "source": [
    "def norm_func (n):\n",
    "  g=(n-n.min())/(n.max()-n.min())\n",
    "  return g"
   ]
  },
  {
   "cell_type": "code",
   "execution_count": null,
   "metadata": {
    "id": "jApR-hq9dNzy"
   },
   "outputs": [],
   "source": [
    "airlinesf=norm_func(airlines)"
   ]
  },
  {
   "cell_type": "code",
   "execution_count": null,
   "metadata": {
    "colab": {
     "base_uri": "https://localhost:8080/",
     "height": 363
    },
    "id": "6Eyt48HWdQSK",
    "outputId": "e403b043-37b9-4f53-cc2d-96fa9a146019"
   },
   "outputs": [],
   "source": [
    "airlines.head(10)"
   ]
  },
  {
   "cell_type": "code",
   "execution_count": null,
   "metadata": {
    "colab": {
     "base_uri": "https://localhost:8080/",
     "height": 1000
    },
    "id": "kftiCE5VdS6k",
    "outputId": "f7b1c5c9-8335-4393-b40b-e4f1744a6262"
   },
   "outputs": [],
   "source": [
    "plt.figure(figsize=(40,40))\n",
    "dendrogram=sch.dendrogram(sch.linkage(airlinesf,method='complete'))"
   ]
  },
  {
   "cell_type": "code",
   "execution_count": null,
   "metadata": {
    "id": "ctUrk5lJdkSi"
   },
   "outputs": [],
   "source": [
    "hcc = AgglomerativeClustering(n_clusters=5, affinity='euclidean', linkage='complete')"
   ]
  },
  {
   "cell_type": "code",
   "execution_count": null,
   "metadata": {
    "colab": {
     "base_uri": "https://localhost:8080/",
     "height": 74
    },
    "id": "Pg2Ti9MCd1SC",
    "outputId": "7439bc27-1524-4050-f562-64f0c263147b"
   },
   "outputs": [],
   "source": [
    "hcc"
   ]
  },
  {
   "cell_type": "code",
   "execution_count": null,
   "metadata": {
    "id": "3SQN7OXJd4JF"
   },
   "outputs": [],
   "source": [
    "hcc_y=hcc.fit_predict(airlinesf)"
   ]
  },
  {
   "cell_type": "code",
   "execution_count": null,
   "metadata": {
    "colab": {
     "base_uri": "https://localhost:8080/"
    },
    "id": "ZA5t40nTd508",
    "outputId": "bf571c72-e56b-4856-f25b-9b209808c5c4"
   },
   "outputs": [],
   "source": [
    "hcc_y"
   ]
  },
  {
   "cell_type": "code",
   "execution_count": null,
   "metadata": {
    "id": "WyVhSrwUd7NG"
   },
   "outputs": [],
   "source": [
    "airlines['Cluster ID']=hcc_y"
   ]
  },
  {
   "cell_type": "code",
   "execution_count": null,
   "metadata": {
    "colab": {
     "base_uri": "https://localhost:8080/",
     "height": 423
    },
    "id": "C8wmvAbRd-MH",
    "outputId": "13a0ca4d-accb-45f9-d1fc-284da3f1a3ca"
   },
   "outputs": [],
   "source": [
    "airlinesf"
   ]
  },
  {
   "cell_type": "code",
   "execution_count": null,
   "metadata": {
    "id": "8xr56gAmd_9h"
   },
   "outputs": [],
   "source": [
    "from sklearn.cluster import KMeans"
   ]
  },
  {
   "cell_type": "code",
   "execution_count": null,
   "metadata": {
    "id": "3tO-ufSteCmX"
   },
   "outputs": [],
   "source": [
    "from sklearn.preprocessing import StandardScaler\n",
    "scaler=StandardScaler()\n",
    "\n",
    "scaled_airlines=scaler.fit_transform(airlinesf.iloc[:,1:])"
   ]
  },
  {
   "cell_type": "code",
   "execution_count": null,
   "metadata": {
    "colab": {
     "base_uri": "https://localhost:8080/"
    },
    "id": "hLRS5P7ieFdX",
    "outputId": "f51ebf30-f10c-4959-e70e-203e054e68bc"
   },
   "outputs": [],
   "source": [
    "scaled_airlines"
   ]
  },
  {
   "cell_type": "code",
   "execution_count": null,
   "metadata": {
    "colab": {
     "base_uri": "https://localhost:8080/"
    },
    "id": "Hy9_QKEfeG1x",
    "outputId": "625e61a6-1506-4f4b-a006-ca3aa0346f49"
   },
   "outputs": [],
   "source": [
    "for i in range(1,4):\n",
    "  print(i)"
   ]
  },
  {
   "cell_type": "code",
   "execution_count": null,
   "metadata": {
    "id": "WVnb5jgceIk3"
   },
   "outputs": [],
   "source": [
    "kmeans=KMeans(n_clusters=4,random_state=0)\n",
    "kmeans.fit(scaled_airlines)\n",
    "inertia=[]\n",
    "inertia.append(kmeans.inertia_)"
   ]
  },
  {
   "cell_type": "code",
   "execution_count": null,
   "metadata": {
    "colab": {
     "base_uri": "https://localhost:8080/"
    },
    "id": "Erw1COYKeKAT",
    "outputId": "d4f1c268-7a04-4d27-eadd-fa19d29b5605"
   },
   "outputs": [],
   "source": [
    "inertia"
   ]
  },
  {
   "cell_type": "code",
   "execution_count": null,
   "metadata": {
    "colab": {
     "base_uri": "https://localhost:8080/"
    },
    "id": "UZHTYntqeLuo",
    "outputId": "edd67d3c-926e-45cf-a800-1a4211ee45dc"
   },
   "outputs": [],
   "source": [
    "kmeans.inertia_"
   ]
  },
  {
   "cell_type": "code",
   "execution_count": null,
   "metadata": {
    "id": "6y27SnqpeNDs"
   },
   "outputs": [],
   "source": [
    "inertia=[]\n",
    "for i in range(1,11):\n",
    "  kmeans=KMeans(n_clusters=i,random_state=0)\n",
    "  kmeans.fit(scaled_airlines)\n",
    "  inertia.append(kmeans.inertia_)\n",
    "  if i>2 :\n",
    "    break"
   ]
  },
  {
   "cell_type": "code",
   "execution_count": null,
   "metadata": {
    "colab": {
     "base_uri": "https://localhost:8080/"
    },
    "id": "dI5-xrTceObk",
    "outputId": "2642e4c8-7a6a-4ac7-b62e-cbf2d4e43eca"
   },
   "outputs": [],
   "source": [
    "inertia"
   ]
  },
  {
   "cell_type": "code",
   "execution_count": null,
   "metadata": {
    "colab": {
     "base_uri": "https://localhost:8080/",
     "height": 472
    },
    "id": "eSewDVqreP59",
    "outputId": "f206c39f-1567-44d3-e477-c23f76b2ece2"
   },
   "outputs": [],
   "source": [
    "inertia = []\n",
    "for i in range(1,11):\n",
    "    kmeans = KMeans(n_clusters=i,random_state=0)\n",
    "    kmeans.fit(scaled_airlines)\n",
    "    inertia.append(kmeans.inertia_)\n",
    "\n",
    "plt.plot(range(1,11),inertia)\n",
    "plt.title('Elbow Method')\n",
    "plt.xlabel('Number of Clusters')\n",
    "plt.ylabel('Inertia')\n",
    "plt.show()"
   ]
  },
  {
   "cell_type": "code",
   "execution_count": null,
   "metadata": {
    "colab": {
     "base_uri": "https://localhost:8080/",
     "height": 74
    },
    "id": "4G8uxuDSeSP6",
    "outputId": "9e734ad9-b213-4d33-ffee-e2a2672e438a"
   },
   "outputs": [],
   "source": [
    "clusters_new=KMeans(5,random_state=42)\n",
    "clusters_new.fit(scaled_airlines)"
   ]
  },
  {
   "cell_type": "code",
   "execution_count": null,
   "metadata": {
    "colab": {
     "base_uri": "https://localhost:8080/"
    },
    "id": "fjZTb0TBeUNi",
    "outputId": "299f021d-d375-4833-8281-705f7580f44d"
   },
   "outputs": [],
   "source": [
    "clusters_new.labels_"
   ]
  },
  {
   "cell_type": "code",
   "execution_count": null,
   "metadata": {
    "id": "2V4N0gJAeVpu"
   },
   "outputs": [],
   "source": [
    "airlinesf['KMeans Cluster ID']=clusters_new.labels_"
   ]
  },
  {
   "cell_type": "code",
   "execution_count": null,
   "metadata": {
    "colab": {
     "base_uri": "https://localhost:8080/",
     "height": 380
    },
    "id": "Yrr-bCUBeYbY",
    "outputId": "8bf8d98e-9be0-45b7-c104-583da7ef5282"
   },
   "outputs": [],
   "source": [
    "airlines.head(10)"
   ]
  },
  {
   "cell_type": "code",
   "execution_count": null,
   "metadata": {
    "colab": {
     "base_uri": "https://localhost:8080/",
     "height": 292
    },
    "id": "oxXA5_CBeZ2H",
    "outputId": "1e378fca-ee1d-4ffb-8e23-5b808695fc6f"
   },
   "outputs": [],
   "source": [
    "airlinesf.groupby('KMeans Cluster ID').agg(['mean']).reset_index()"
   ]
  },
  {
   "cell_type": "code",
   "execution_count": null,
   "metadata": {
    "colab": {
     "base_uri": "https://localhost:8080/"
    },
    "id": "eZm6z2YQebpo",
    "outputId": "ebc5db61-1973-4f8a-c1f8-79934c93b5af"
   },
   "outputs": [],
   "source": [
    "(airlinesf[airlinesf['KMeans Cluster ID']==0]).value_counts().sum()"
   ]
  },
  {
   "cell_type": "code",
   "execution_count": null,
   "metadata": {
    "colab": {
     "base_uri": "https://localhost:8080/"
    },
    "id": "et8kpZtOedl8",
    "outputId": "1db551f2-daad-4111-ec5f-c53200ebc6f8"
   },
   "outputs": [],
   "source": [
    "for i in range(0,5):\n",
    "    n = airlinesf[airlinesf['KMeans Cluster ID']==i].value_counts().sum()\n",
    "    print('Cluster No','-', i, ';' , 'Count','-',n)\n",
    "    print('_____________________________________________________________________________')\n",
    "    print('\\n', airlinesf[airlinesf['KMeans Cluster ID']==i] )\n",
    "    print('___________________________________________________________')"
   ]
  },
  {
   "cell_type": "code",
   "execution_count": null,
   "metadata": {
    "id": "xvDCq3C7ehKe"
   },
   "outputs": [],
   "source": [
    "from sklearn.cluster import DBSCAN\n",
    "from sklearn.preprocessing import StandardScaler"
   ]
  },
  {
   "cell_type": "code",
   "execution_count": null,
   "metadata": {
    "colab": {
     "base_uri": "https://localhost:8080/"
    },
    "id": "Ytjl86NzejdJ",
    "outputId": "f3e53b13-fe80-41a9-a1dc-af92f8dc476c"
   },
   "outputs": [],
   "source": [
    "array=airlinesf.values\n",
    "array"
   ]
  },
  {
   "cell_type": "code",
   "execution_count": null,
   "metadata": {
    "id": "hpuw1Cdsek3k"
   },
   "outputs": [],
   "source": [
    "ss=StandardScaler()\n",
    "x=ss.fit_transform(array)"
   ]
  },
  {
   "cell_type": "code",
   "execution_count": null,
   "metadata": {
    "colab": {
     "base_uri": "https://localhost:8080/"
    },
    "id": "0m_rgiuxfGbO",
    "outputId": "ef0ecc10-12af-42c9-b430-3731e9d36762"
   },
   "outputs": [],
   "source": [
    "x"
   ]
  },
  {
   "cell_type": "code",
   "execution_count": null,
   "metadata": {
    "colab": {
     "base_uri": "https://localhost:8080/"
    },
    "id": "iAPXjy5efH9I",
    "outputId": "51e2ac16-cfbd-4648-d31f-fd882b2906b3"
   },
   "outputs": [],
   "source": [
    "dbscan=DBSCAN(eps=3,min_samples=3)\n",
    "dbscan.fit_predict(x)"
   ]
  },
  {
   "cell_type": "code",
   "execution_count": null,
   "metadata": {
    "colab": {
     "base_uri": "https://localhost:8080/"
    },
    "id": "PgNI_4cqfYzA",
    "outputId": "868e5cbb-c72f-435a-94c8-2516e1eb3206"
   },
   "outputs": [],
   "source": [
    "dbscan.labels_"
   ]
  },
  {
   "cell_type": "code",
   "execution_count": null,
   "metadata": {
    "colab": {
     "base_uri": "https://localhost:8080/",
     "height": 423
    },
    "id": "IsWQt20ifaEG",
    "outputId": "54a5f139-0198-4758-ac3b-151b8c29cf2a"
   },
   "outputs": [],
   "source": [
    "cl = pd.DataFrame(dbscan.labels_,columns=['DBSCAN cluster'])\n",
    "cl"
   ]
  },
  {
   "cell_type": "code",
   "execution_count": null,
   "metadata": {
    "id": "mJwFTosNfddP"
   },
   "outputs": [],
   "source": [
    "airlinesf['DBSCAN Clusters'] = dbscan.labels_"
   ]
  },
  {
   "cell_type": "code",
   "execution_count": null,
   "metadata": {
    "colab": {
     "base_uri": "https://localhost:8080/",
     "height": 478
    },
    "id": "4J2W2aDBfhGJ",
    "outputId": "906b5c36-8480-4906-caad-7b68e8748df8"
   },
   "outputs": [],
   "source": [
    "airlinesf"
   ]
  },
  {
   "cell_type": "code",
   "execution_count": null,
   "metadata": {
    "colab": {
     "base_uri": "https://localhost:8080/"
    },
    "id": "OuWwfjo8fj7m",
    "outputId": "9e0e952e-5ba9-438a-a00f-37be7085dcbd"
   },
   "outputs": [],
   "source": [
    "for i in range(0,2):\n",
    "    n = airlinesf[airlinesf['DBSCAN Clusters']==i].value_counts().sum()\n",
    "    print('Cluster No','-', i, ';' , 'Count','-',n)\n",
    "    print('_____________________________________________________________________________')\n",
    "    print('\\n', airlinesf[airlinesf['DBSCAN Clusters']==i] )\n",
    "    print('____________________________________________________')"
   ]
  },
  {
   "cell_type": "code",
   "execution_count": null,
   "metadata": {
    "colab": {
     "base_uri": "https://localhost:8080/",
     "height": 166
    },
    "id": "w4REJEYyfr_j",
    "outputId": "f08a524b-4508-40cc-f999-9979ae5f4895"
   },
   "outputs": [],
   "source": [
    "airlinesf.head(2)"
   ]
  }
 ],
 "metadata": {
  "colab": {
   "provenance": []
  },
  "kernelspec": {
   "display_name": "Python 3 (ipykernel)",
   "language": "python",
   "name": "python3"
  },
  "language_info": {
   "codemirror_mode": {
    "name": "ipython",
    "version": 3
   },
   "file_extension": ".py",
   "mimetype": "text/x-python",
   "name": "python",
   "nbconvert_exporter": "python",
   "pygments_lexer": "ipython3",
   "version": "3.12.4"
  }
 },
 "nbformat": 4,
 "nbformat_minor": 4
}
